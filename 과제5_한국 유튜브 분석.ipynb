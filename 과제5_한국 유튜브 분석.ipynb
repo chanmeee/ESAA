{
 "cells": [
  {
   "cell_type": "markdown",
   "metadata": {},
   "source": [
    "# ESAA 팀 과제 \n",
    "# 2019년 10월 11일 \n",
    "## [3번 주제] like 와 dislike (호감/비호감) 비율 구한 뒤, 어떤 카테고리인지 파악하기"
   ]
  },
  {
   "cell_type": "code",
   "execution_count": 130,
   "metadata": {},
   "outputs": [],
   "source": [
    "# 패키지 불러오기\n",
    "from pandas import *\n",
    "import pandas as pd"
   ]
  },
  {
   "cell_type": "code",
   "execution_count": 131,
   "metadata": {},
   "outputs": [
    {
     "data": {
      "text/plain": [
       "'C:\\\\Users\\\\Chanmi Yoo\\\\Desktop\\\\ESAA\\\\191011 ESAA 팀'"
      ]
     },
     "execution_count": 131,
     "metadata": {},
     "output_type": "execute_result"
    }
   ],
   "source": [
    "# 현재 위치 확인 \n",
    "import os \n",
    "os.getcwd() # 현재 디렉토리 위치 확인 "
   ]
  },
  {
   "cell_type": "code",
   "execution_count": 146,
   "metadata": {},
   "outputs": [
    {
     "name": "stdout",
     "output_type": "stream",
     "text": [
      "      video_id trending_date                       title channel_title  \\\n",
      "0  RxGQe4EeEpA      17.14.11          좋아 by 민서_윤종신_좋니 답가        라푸마코리아   \n",
      "1  hH7wVE8OlQ0      17.14.11            JSA 귀순 북한군 총격 부상        Edward   \n",
      "2  9V8bnWUmE9U      17.14.11  나몰라패밀리 운동화 영상 2탄 (빼빼로데이버젼)     나몰라패밀리 핫쇼   \n",
      "3  0_8py-t5R80      17.14.11  이명박 출국 현장, 놓치면 안되는 장면         미디어몽구   \n",
      "4  bk55RbxiQdI      17.14.11     김장겸은 물러갔다 MBC 노조 환호와 눈물        NocutV   \n",
      "\n",
      "   category_id              publish_time  \\\n",
      "0           22  2017-11-13T07:07:36.000Z   \n",
      "1           25  2017-11-13T10:59:16.000Z   \n",
      "2           22  2017-11-11T07:16:08.000Z   \n",
      "3           25  2017-11-12T11:19:52.000Z   \n",
      "4           25  2017-11-13T11:08:59.000Z   \n",
      "\n",
      "                                                tags   views  likes  dislikes  \\\n",
      "0                      라푸마|\"윤종신\"|\"좋니\"|\"좋아\"|\"샬레\"|\"민서\"  156130   1422        40   \n",
      "1        JSA|\"귀순\"|\"북한군\"|\"총격\"|\"부상\"|\"JSA 귀순 북한군 총격 부상\"   76533    211        28   \n",
      "2                아디다스|\"빼빼로\"|\"핫쇼\"|\"나몰라패밀리\"|\"대학로\"|\"공연\"  421409   5112       166   \n",
      "3  이명박|\"이명박 출국금지\"|\"이명박 출국현장\"|\"이명박 바레인\"|\"이명박 대통령\"|...  222850   2093       173   \n",
      "4          nocutV|\"노컷V\"|\"CBS\"|\"mbc\"|\"김장겸\"|\"해임\"|\"허일후\"   84466   1094       109   \n",
      "\n",
      "   comment_count                                  thumbnail_link  \\\n",
      "0            272  https://i.ytimg.com/vi/RxGQe4EeEpA/default.jpg   \n",
      "1            113  https://i.ytimg.com/vi/hH7wVE8OlQ0/default.jpg   \n",
      "2            459  https://i.ytimg.com/vi/9V8bnWUmE9U/default.jpg   \n",
      "3           1219  https://i.ytimg.com/vi/0_8py-t5R80/default.jpg   \n",
      "4            450  https://i.ytimg.com/vi/bk55RbxiQdI/default.jpg   \n",
      "\n",
      "   comments_disabled  ratings_disabled  video_error_or_removed  \\\n",
      "0              False             False                   False   \n",
      "1              False             False                   False   \n",
      "2              False             False                   False   \n",
      "3              False             False                   False   \n",
      "4              False             False                   False   \n",
      "\n",
      "                                         description  \n",
      "0  윤종신 '좋니'의 답가 '좋아' 최초 공개!\\n그 여자의 이야기를 지금 만나보세요....  \n",
      "1  [채널A단독]北 병사 현재 '의식불명'… 혈압 떨어지는 중 \\n[채널A단독]우리측 ...  \n",
      "2                                    퍼가실때 꼭 출처 부탁드려요  \n",
      "3                                다스는 누구겁니까 듣고 난 후 표정  \n",
      "4  김장겸 MBC 사장이 결국 해임됐다.\\n\\nMBC 대주주인 방송문화진흥회는 13일 ...  \n"
     ]
    }
   ],
   "source": [
    "# 데이터 불러오기 \n",
    "input_fd = open('KRvideos.csv',errors = 'backslashreplace',encoding='utf-8')\n",
    "KRvideos = pd.read_csv(input_fd)\n",
    "\n",
    "print(KRvideos.head())"
   ]
  },
  {
   "cell_type": "code",
   "execution_count": 134,
   "metadata": {},
   "outputs": [
    {
     "name": "stdout",
     "output_type": "stream",
     "text": [
      "{'etag': '\"XI7nbFXulYBIpL0ayR_gDh3eu1k/1v2mrzYSYG6onNLt2qTj13hkQZk\"',\n",
      " 'items': [{'etag': '\"XI7nbFXulYBIpL0ayR_gDh3eu1k/Xy1mB4_yLrHy_BmKmPBggty2mZQ\"',\n",
      "            'id': '1',\n",
      "            'kind': 'youtube#videoCategory',\n",
      "            'snippet': {'assignable': True,\n",
      "                        'channelId': 'UCBR8-60-B28hp2BmDPdntcQ',\n",
      "                        'title': 'Film & Animation'}},\n",
      "           {'etag': '\"XI7nbFXulYBIpL0ayR_gDh3eu1k/UZ1oLIIz2dxIhO45ZTFR3a3NyTA\"',\n",
      "            'id': '2',\n",
      "            'kind': 'youtube#videoCategory',\n",
      "            'snippet': {'assignable': True,\n",
      "                        'channelId': 'UCBR8-60-B28hp2BmDPdntcQ',\n",
      "                        'title': 'Autos & Vehicles'}},\n",
      "           {'etag': '\"XI7nbFXulYBIpL0ayR_gDh3eu1k/nqRIq97-xe5XRZTxbknKFVe5Lmg\"',\n",
      "            'id': '10',\n",
      "            'kind': 'youtube#videoCategory',\n",
      "            'snippet': {'assignable': True,\n",
      "                        'channelId': 'UCBR8-60-B28hp2BmDPdntcQ',\n",
      "                        'title': 'Music'}},\n",
      "           {'etag': '\"XI7nbFXulYBIpL0ayR_gDh3eu1k/HwXKamM1Q20q9BN-oBJavSGkfDI\"',\n",
      "            'id': '15',\n",
      "            'kind': 'youtube#videoCategory',\n",
      "            'snippet': {'assignable': True,\n",
      "                        'channelId': 'UCBR8-60-B28hp2BmDPdntcQ',\n",
      "                        'title': 'Pets & Animals'}},\n",
      "           {'etag': '\"XI7nbFXulYBIpL0ayR_gDh3eu1k/9GQMSRjrZdHeb1OEM1XVQ9zbGec\"',\n",
      "            'id': '17',\n",
      "            'kind': 'youtube#videoCategory',\n",
      "            'snippet': {'assignable': True,\n",
      "                        'channelId': 'UCBR8-60-B28hp2BmDPdntcQ',\n",
      "                        'title': 'Sports'}},\n",
      "           {'etag': '\"XI7nbFXulYBIpL0ayR_gDh3eu1k/FJwVpGCVZ1yiJrqZbpqe68Sy_OE\"',\n",
      "            'id': '18',\n",
      "            'kind': 'youtube#videoCategory',\n",
      "            'snippet': {'assignable': False,\n",
      "                        'channelId': 'UCBR8-60-B28hp2BmDPdntcQ',\n",
      "                        'title': 'Short Movies'}},\n",
      "           {'etag': '\"XI7nbFXulYBIpL0ayR_gDh3eu1k/M-3iD9dwK7YJCafRf_DkLN8CouA\"',\n",
      "            'id': '19',\n",
      "            'kind': 'youtube#videoCategory',\n",
      "            'snippet': {'assignable': True,\n",
      "                        'channelId': 'UCBR8-60-B28hp2BmDPdntcQ',\n",
      "                        'title': 'Travel & Events'}},\n",
      "           {'etag': '\"XI7nbFXulYBIpL0ayR_gDh3eu1k/WmA0qYEfjWsAoyJFSw2zinhn2wM\"',\n",
      "            'id': '20',\n",
      "            'kind': 'youtube#videoCategory',\n",
      "            'snippet': {'assignable': True,\n",
      "                        'channelId': 'UCBR8-60-B28hp2BmDPdntcQ',\n",
      "                        'title': 'Gaming'}},\n",
      "           {'etag': '\"XI7nbFXulYBIpL0ayR_gDh3eu1k/EapFaGYG7K0StIXVf8aba249tdM\"',\n",
      "            'id': '21',\n",
      "            'kind': 'youtube#videoCategory',\n",
      "            'snippet': {'assignable': False,\n",
      "                        'channelId': 'UCBR8-60-B28hp2BmDPdntcQ',\n",
      "                        'title': 'Videoblogging'}},\n",
      "           {'etag': '\"XI7nbFXulYBIpL0ayR_gDh3eu1k/xId8RX7vRN8rqkbYZbNIytUQDRo\"',\n",
      "            'id': '22',\n",
      "            'kind': 'youtube#videoCategory',\n",
      "            'snippet': {'assignable': True,\n",
      "                        'channelId': 'UCBR8-60-B28hp2BmDPdntcQ',\n",
      "                        'title': 'People & Blogs'}},\n",
      "           {'etag': '\"XI7nbFXulYBIpL0ayR_gDh3eu1k/G9LHzQmx44rX2S5yaga_Aqtwz8M\"',\n",
      "            'id': '23',\n",
      "            'kind': 'youtube#videoCategory',\n",
      "            'snippet': {'assignable': True,\n",
      "                        'channelId': 'UCBR8-60-B28hp2BmDPdntcQ',\n",
      "                        'title': 'Comedy'}},\n",
      "           {'etag': '\"XI7nbFXulYBIpL0ayR_gDh3eu1k/UVB9oxX2Bvqa_w_y3vXSLVK5E_s\"',\n",
      "            'id': '24',\n",
      "            'kind': 'youtube#videoCategory',\n",
      "            'snippet': {'assignable': True,\n",
      "                        'channelId': 'UCBR8-60-B28hp2BmDPdntcQ',\n",
      "                        'title': 'Entertainment'}},\n",
      "           {'etag': '\"XI7nbFXulYBIpL0ayR_gDh3eu1k/QiLK0ZIrFoORdk_g2l_XR_ECjDc\"',\n",
      "            'id': '25',\n",
      "            'kind': 'youtube#videoCategory',\n",
      "            'snippet': {'assignable': True,\n",
      "                        'channelId': 'UCBR8-60-B28hp2BmDPdntcQ',\n",
      "                        'title': 'News & Politics'}},\n",
      "           {'etag': '\"XI7nbFXulYBIpL0ayR_gDh3eu1k/r6Ck6Z0_L0rG37VJQR200SGNA_w\"',\n",
      "            'id': '26',\n",
      "            'kind': 'youtube#videoCategory',\n",
      "            'snippet': {'assignable': True,\n",
      "                        'channelId': 'UCBR8-60-B28hp2BmDPdntcQ',\n",
      "                        'title': 'Howto & Style'}},\n",
      "           {'etag': '\"XI7nbFXulYBIpL0ayR_gDh3eu1k/EoYkczo9I3RCf96RveKTOgOPkUM\"',\n",
      "            'id': '27',\n",
      "            'kind': 'youtube#videoCategory',\n",
      "            'snippet': {'assignable': True,\n",
      "                        'channelId': 'UCBR8-60-B28hp2BmDPdntcQ',\n",
      "                        'title': 'Education'}},\n",
      "           {'etag': '\"XI7nbFXulYBIpL0ayR_gDh3eu1k/w5HjcTD82G_XA3xBctS30zS-JpQ\"',\n",
      "            'id': '28',\n",
      "            'kind': 'youtube#videoCategory',\n",
      "            'snippet': {'assignable': True,\n",
      "                        'channelId': 'UCBR8-60-B28hp2BmDPdntcQ',\n",
      "                        'title': 'Science & Technology'}},\n",
      "           {'etag': '\"XI7nbFXulYBIpL0ayR_gDh3eu1k/lL7uWDr_071CHxifjYG1tJrp4Uo\"',\n",
      "            'id': '30',\n",
      "            'kind': 'youtube#videoCategory',\n",
      "            'snippet': {'assignable': False,\n",
      "                        'channelId': 'UCBR8-60-B28hp2BmDPdntcQ',\n",
      "                        'title': 'Movies'}},\n",
      "           {'etag': '\"XI7nbFXulYBIpL0ayR_gDh3eu1k/WnuVfjO-PyFLO7NTRQIbrGE62nk\"',\n",
      "            'id': '31',\n",
      "            'kind': 'youtube#videoCategory',\n",
      "            'snippet': {'assignable': False,\n",
      "                        'channelId': 'UCBR8-60-B28hp2BmDPdntcQ',\n",
      "                        'title': 'Anime/Animation'}},\n",
      "           {'etag': '\"XI7nbFXulYBIpL0ayR_gDh3eu1k/ctpH2hGA_UZ3volJT_FTlOg9M00\"',\n",
      "            'id': '32',\n",
      "            'kind': 'youtube#videoCategory',\n",
      "            'snippet': {'assignable': False,\n",
      "                        'channelId': 'UCBR8-60-B28hp2BmDPdntcQ',\n",
      "                        'title': 'Action/Adventure'}},\n",
      "           {'etag': '\"XI7nbFXulYBIpL0ayR_gDh3eu1k/L0kR3-g1BAo5UD1PLVbQ7LkkDtQ\"',\n",
      "            'id': '33',\n",
      "            'kind': 'youtube#videoCategory',\n",
      "            'snippet': {'assignable': False,\n",
      "                        'channelId': 'UCBR8-60-B28hp2BmDPdntcQ',\n",
      "                        'title': 'Classics'}},\n",
      "           {'etag': '\"XI7nbFXulYBIpL0ayR_gDh3eu1k/pUZOAC_s9sfiwar639qr_wAB-aI\"',\n",
      "            'id': '34',\n",
      "            'kind': 'youtube#videoCategory',\n",
      "            'snippet': {'assignable': False,\n",
      "                        'channelId': 'UCBR8-60-B28hp2BmDPdntcQ',\n",
      "                        'title': 'Comedy'}},\n",
      "           {'etag': '\"XI7nbFXulYBIpL0ayR_gDh3eu1k/Xb5JLhtyNRN3AQq021Ds-OV50Jk\"',\n",
      "            'id': '35',\n",
      "            'kind': 'youtube#videoCategory',\n",
      "            'snippet': {'assignable': False,\n",
      "                        'channelId': 'UCBR8-60-B28hp2BmDPdntcQ',\n",
      "                        'title': 'Documentary'}},\n",
      "           {'etag': '\"XI7nbFXulYBIpL0ayR_gDh3eu1k/u8WXzF4HIhtEi805__sqjuA4lEk\"',\n",
      "            'id': '36',\n",
      "            'kind': 'youtube#videoCategory',\n",
      "            'snippet': {'assignable': False,\n",
      "                        'channelId': 'UCBR8-60-B28hp2BmDPdntcQ',\n",
      "                        'title': 'Drama'}},\n",
      "           {'etag': '\"XI7nbFXulYBIpL0ayR_gDh3eu1k/D04PP4Gr7wc4IV_O9G66Z4A8KWQ\"',\n",
      "            'id': '37',\n",
      "            'kind': 'youtube#videoCategory',\n",
      "            'snippet': {'assignable': False,\n",
      "                        'channelId': 'UCBR8-60-B28hp2BmDPdntcQ',\n",
      "                        'title': 'Family'}},\n",
      "           {'etag': '\"XI7nbFXulYBIpL0ayR_gDh3eu1k/i5-_AceGXQCEEMWU0V8CcQm_vLQ\"',\n",
      "            'id': '38',\n",
      "            'kind': 'youtube#videoCategory',\n",
      "            'snippet': {'assignable': False,\n",
      "                        'channelId': 'UCBR8-60-B28hp2BmDPdntcQ',\n",
      "                        'title': 'Foreign'}},\n",
      "           {'etag': '\"XI7nbFXulYBIpL0ayR_gDh3eu1k/rtlxd0zOixA9QHdIZB26-St5qgQ\"',\n",
      "            'id': '39',\n",
      "            'kind': 'youtube#videoCategory',\n",
      "            'snippet': {'assignable': False,\n",
      "                        'channelId': 'UCBR8-60-B28hp2BmDPdntcQ',\n",
      "                        'title': 'Horror'}},\n",
      "           {'etag': '\"XI7nbFXulYBIpL0ayR_gDh3eu1k/N1TrDFLRppxZgBowCJfJCvh0Dpg\"',\n",
      "            'id': '40',\n",
      "            'kind': 'youtube#videoCategory',\n",
      "            'snippet': {'assignable': False,\n",
      "                        'channelId': 'UCBR8-60-B28hp2BmDPdntcQ',\n",
      "                        'title': 'Sci-Fi/Fantasy'}},\n",
      "           {'etag': '\"XI7nbFXulYBIpL0ayR_gDh3eu1k/7UMGi6zRySqXopr_rv4sZq6Za2E\"',\n",
      "            'id': '41',\n",
      "            'kind': 'youtube#videoCategory',\n",
      "            'snippet': {'assignable': False,\n",
      "                        'channelId': 'UCBR8-60-B28hp2BmDPdntcQ',\n",
      "                        'title': 'Thriller'}},\n",
      "           {'etag': '\"XI7nbFXulYBIpL0ayR_gDh3eu1k/RScXhi324h8usyIetreAVb-uKeM\"',\n",
      "            'id': '42',\n",
      "            'kind': 'youtube#videoCategory',\n",
      "            'snippet': {'assignable': False,\n",
      "                        'channelId': 'UCBR8-60-B28hp2BmDPdntcQ',\n",
      "                        'title': 'Shorts'}},\n",
      "           {'etag': '\"XI7nbFXulYBIpL0ayR_gDh3eu1k/0n9MJVCDLpA8q7aiGVrFsuFsd0A\"',\n",
      "            'id': '43',\n",
      "            'kind': 'youtube#videoCategory',\n",
      "            'snippet': {'assignable': False,\n",
      "                        'channelId': 'UCBR8-60-B28hp2BmDPdntcQ',\n",
      "                        'title': 'Shows'}},\n",
      "           {'etag': '\"XI7nbFXulYBIpL0ayR_gDh3eu1k/x5NxSf5fz8hn4loSN4rvhwzD_pY\"',\n",
      "            'id': '44',\n",
      "            'kind': 'youtube#videoCategory',\n",
      "            'snippet': {'assignable': False,\n",
      "                        'channelId': 'UCBR8-60-B28hp2BmDPdntcQ',\n",
      "                        'title': 'Trailers'}}],\n",
      " 'kind': 'youtube#videoCategoryListResponse'}\n"
     ]
    }
   ],
   "source": [
    "# 카데고리 설명 json 파일 불러오기 \n",
    "import json\n",
    "from pprint import pprint\n",
    "\n",
    "with open('KR_category_id.json') as data_file:    \n",
    "    data = json.load(data_file)\n",
    "    \n",
    "pprint(data)"
   ]
  },
  {
   "cell_type": "code",
   "execution_count": 143,
   "metadata": {},
   "outputs": [
    {
     "name": "stdout",
     "output_type": "stream",
     "text": [
      "  category_id          category\n",
      "0           1  Film & Animation\n",
      "1           2  Autos & Vehicles\n",
      "2          10             Music\n",
      "3          15    Pets & Animals\n",
      "4          17            Sports\n"
     ]
    }
   ],
   "source": [
    "# 카테고리 설명 데이터프레임 만들기 \n",
    "ID = []\n",
    "title = []\n",
    "\n",
    "for i in range(len(data[\"items\"])):\n",
    "    ID.append(data[\"items\"][i][\"id\"])\n",
    "    title.append(data[\"items\"][i][\"snippet\"][\"title\"])\n",
    "\n",
    "category_desc = pd.DataFrame({'category_id':ID, \n",
    "                             'category': title})\n",
    "print(category_desc.head())"
   ]
  },
  {
   "cell_type": "code",
   "execution_count": 281,
   "metadata": {},
   "outputs": [
    {
     "name": "stdout",
     "output_type": "stream",
     "text": [
      "      video_id trending_date               title channel_title category_id  \\\n",
      "0  RxGQe4EeEpA      17.14.11  좋아 by 민서_윤종신_좋니 답가        라푸마코리아          22   \n",
      "1  hH7wVE8OlQ0      17.14.11    JSA 귀순 북한군 총격 부상        Edward          25   \n",
      "\n",
      "               publish_time                                         tags  \\\n",
      "0  2017-11-13T07:07:36.000Z                라푸마|\"윤종신\"|\"좋니\"|\"좋아\"|\"샬레\"|\"민서\"   \n",
      "1  2017-11-13T10:59:16.000Z  JSA|\"귀순\"|\"북한군\"|\"총격\"|\"부상\"|\"JSA 귀순 북한군 총격 부상\"   \n",
      "\n",
      "    views  likes  dislikes  comment_count  \\\n",
      "0  156130   1422        40            272   \n",
      "1   76533    211        28            113   \n",
      "\n",
      "                                   thumbnail_link  comments_disabled  \\\n",
      "0  https://i.ytimg.com/vi/RxGQe4EeEpA/default.jpg              False   \n",
      "1  https://i.ytimg.com/vi/hH7wVE8OlQ0/default.jpg              False   \n",
      "\n",
      "   ratings_disabled  video_error_or_removed  \\\n",
      "0             False                   False   \n",
      "1             False                   False   \n",
      "\n",
      "                                         description         category  \n",
      "0  윤종신 '좋니'의 답가 '좋아' 최초 공개!\\n그 여자의 이야기를 지금 만나보세요....   People & Blogs  \n",
      "1  [채널A단독]北 병사 현재 '의식불명'… 혈압 떨어지는 중 \\n[채널A단독]우리측 ...  News & Politics  \n"
     ]
    }
   ],
   "source": [
    "# 문자열 변환 \n",
    "category_desc[\"category_id\"] = category_desc[\"category_id\"].apply(str)\n",
    "KRvideos[\"category_id\"] = KRvideos[\"category_id\"].apply(str)\n",
    "\n",
    "# 기존 KR 데이터프레임과 카테고리 설명 데이터프레임을 합치고, KR에 저장하기 \n",
    "KR = pd.merge(KRvideos, category_desc, on=\"category_id\", how='left')\n",
    "print(KR.head(2))"
   ]
  },
  {
   "cell_type": "markdown",
   "metadata": {},
   "source": [
    "### [좋아요(likes) 상위 25%의 카테고리 분포]"
   ]
  },
  {
   "cell_type": "code",
   "execution_count": 193,
   "metadata": {},
   "outputs": [],
   "source": [
    "# 좋아요 내림차순으로 정렬 후 KR에 저장 \n",
    "KR_likes = KR.sort_values(by=['likes'], axis=0, ascending=False)\n",
    "\n",
    "# 좋아요 상위 25% 추출 후 KR_25에 저장 \n",
    "KR_likes25 = KR.iloc[1:round(len(KR_likes)*0.25)]"
   ]
  },
  {
   "cell_type": "code",
   "execution_count": 194,
   "metadata": {},
   "outputs": [
    {
     "name": "stdout",
     "output_type": "stream",
     "text": [
      "Entertainment           2377\n",
      "Music                   1153\n",
      "People & Blogs          1130\n",
      "Comedy                  1031\n",
      "News & Politics          976\n",
      "Film & Animation         569\n",
      "Gaming                   478\n",
      "Pets & Animals           395\n",
      "Howto & Style            200\n",
      "Sports                   175\n",
      "Education                 84\n",
      "Science & Technology      47\n",
      "Travel & Events           15\n",
      "Autos & Vehicles           6\n",
      "Name: category, dtype: int64\n"
     ]
    }
   ],
   "source": [
    "# 좋아요 상위 25%의 카테고리 분포 살펴보기 \n",
    "KR_likes25['category'].astype(object)\n",
    "print(KR_likes25.category.value_counts())"
   ]
  },
  {
   "cell_type": "markdown",
   "metadata": {},
   "source": [
    "#### 좋아요 수가 많은(상위 25% 수준) 유투브 동영상의 카데고리 분포를 살펴본 결과, Entertainment가 2377개로 가장 많았고, Music과 People&Blogs가 각각 1153개와 1130개로 그 뒤를 이었으며, Comedy도 1031개로 많았다. "
   ]
  },
  {
   "cell_type": "code",
   "execution_count": 195,
   "metadata": {},
   "outputs": [
    {
     "name": "stdout",
     "output_type": "stream",
     "text": [
      "Entertainment           27.51\n",
      "Music                   13.34\n",
      "People & Blogs          13.08\n",
      "Comedy                  11.93\n",
      "News & Politics         11.29\n",
      "Film & Animation         6.58\n",
      "Gaming                   5.53\n",
      "Pets & Animals           4.57\n",
      "Howto & Style            2.31\n",
      "Sports                   2.03\n",
      "Education                0.97\n",
      "Science & Technology     0.54\n",
      "Travel & Events          0.17\n",
      "Autos & Vehicles         0.07\n",
      "Name: category, dtype: float64\n"
     ]
    }
   ],
   "source": [
    "print(round(KR_likes25.category.value_counts()/len(KR_likes25)*100, 2))"
   ]
  },
  {
   "cell_type": "markdown",
   "metadata": {},
   "source": [
    "#### Entertainment 27.51%, Music 13.34%, People & Blogs 13.08%, Comedy 11.93%, News & Politics 11.29%로 집계되었다.\n",
    "\n",
    "#### 즉, 한국인에게 좋아요를 많이 받은 유투브 영상은 주로 연예, 음악, v-log 콘텐츠인 것으로 드러났으며, 교육, 과학기술, 여행, 자동차 관련 콘텐츠는 좋아요 수가 높지 않았다."
   ]
  },
  {
   "cell_type": "markdown",
   "metadata": {},
   "source": [
    "### [싫어요(dislikes) 상위 25%의 카테고리 분포]"
   ]
  },
  {
   "cell_type": "code",
   "execution_count": 186,
   "metadata": {},
   "outputs": [
    {
     "name": "stdout",
     "output_type": "stream",
     "text": [
      "Entertainment           2377\n",
      "Music                   1153\n",
      "People & Blogs          1130\n",
      "Comedy                  1031\n",
      "News & Politics          976\n",
      "Film & Animation         569\n",
      "Gaming                   478\n",
      "Pets & Animals           395\n",
      "Howto & Style            200\n",
      "Sports                   175\n",
      "Education                 84\n",
      "Science & Technology      47\n",
      "Travel & Events           15\n",
      "Autos & Vehicles           6\n",
      "Name: category, dtype: int64\n"
     ]
    }
   ],
   "source": [
    "# 같은 방식으로 싫어요 상위 25%의 카테고리 분포를 살펴보자\n",
    "\n",
    "KR_dislikes = KR.sort_values(by=['dislikes'], axis=0, ascending=False)\n",
    "KR_dislikes25 = KR.iloc[1:round(len(KR_dislikes)*0.25)]\n",
    "KR_dislikes25['category'].astype(object)\n",
    "print(KR_dislikes25.category.value_counts())"
   ]
  },
  {
   "cell_type": "markdown",
   "metadata": {},
   "source": [
    "#### 싫어요 수가 많은 카테고리는 Entertainment(2377개), Music(1153개), People & Blogs(1130개), Comedy(1031개) 순인 것으로 나타났다. \n"
   ]
  },
  {
   "cell_type": "code",
   "execution_count": 190,
   "metadata": {},
   "outputs": [
    {
     "name": "stdout",
     "output_type": "stream",
     "text": [
      "Entertainment           27.51\n",
      "Music                   13.34\n",
      "People & Blogs          13.08\n",
      "Comedy                  11.93\n",
      "News & Politics         11.29\n",
      "Film & Animation         6.58\n",
      "Gaming                   5.53\n",
      "Pets & Animals           4.57\n",
      "Howto & Style            2.31\n",
      "Sports                   2.03\n",
      "Education                0.97\n",
      "Science & Technology     0.54\n",
      "Travel & Events          0.17\n",
      "Autos & Vehicles         0.07\n",
      "Name: category, dtype: float64\n"
     ]
    }
   ],
   "source": [
    "print(round(KR_dislikes25.category.value_counts()/len(KR_dislikes25)*100, 2))"
   ]
  },
  {
   "cell_type": "markdown",
   "metadata": {},
   "source": [
    "#### 비율을 살펴보면, Entertainment가 27.51%로 가장 많았고, Music(13.34%)과 People & Blogs(13.08%)로 그 뒤를 이었으며, Comedy(11.93%)와 News & Politics(11.29%)도 싫어요를 많이 받은 편이었다."
   ]
  },
  {
   "cell_type": "code",
   "execution_count": 285,
   "metadata": {},
   "outputs": [
    {
     "name": "stdout",
     "output_type": "stream",
     "text": [
      "30583                  BTS (방탄소년단) 'FAKE LOVE' Official MV\n",
      "30352                  BTS (방탄소년단) 'FAKE LOVE' Official MV\n",
      "30486                  BTS (방탄소년단) 'FAKE LOVE' Official MV\n",
      "30291                  BTS (방탄소년단) 'FAKE LOVE' Official MV\n",
      "30171                  BTS (방탄소년단) 'FAKE LOVE' Official MV\n",
      "30069                  BTS (방탄소년단) 'FAKE LOVE' Official MV\n",
      "29969                  BTS (방탄소년단) 'FAKE LOVE' Official MV\n",
      "4856     YouTube Rewind: The Shape of 2017 | #YouTubeRe...\n",
      "4678     YouTube Rewind: The Shape of 2017 | #YouTubeRe...\n",
      "2788     BTS (방탄소년단) 'MIC Drop (Steve Aoki Remix)' Offi...\n",
      "4018     Marvel Studios' Avengers: Infinity War Officia...\n",
      "3750     Marvel Studios' Avengers: Infinity War Officia...\n",
      "2563     BTS (방탄소년단) 'MIC Drop (Steve Aoki Remix)' Offi...\n",
      "28605    BTS (방탄소년단) LOVE YOURSELF 轉 Tear 'Singularity'...\n",
      "3544     Marvel Studios' Avengers: Infinity War Officia...\n",
      "28371    BTS (방탄소년단) LOVE YOURSELF 轉 Tear 'Singularity'...\n",
      "28554    Childish Gambino - This Is America (Official V...\n",
      "2330     BTS (방탄소년단) 'MIC Drop (Steve Aoki Remix)' Offi...\n",
      "3381     Marvel Studios' Avengers: Infinity War Officia...\n",
      "28139    BTS (방탄소년단) LOVE YOURSELF 轉 Tear 'Singularity'...\n",
      "Name: title, dtype: object\n"
     ]
    }
   ],
   "source": [
    "print(KR_dislikes25[\"title\"].head(20))"
   ]
  },
  {
   "cell_type": "code",
   "execution_count": 286,
   "metadata": {},
   "outputs": [
    {
     "name": "stdout",
     "output_type": "stream",
     "text": [
      "30583                  BTS (방탄소년단) 'FAKE LOVE' Official MV\n",
      "30352                  BTS (방탄소년단) 'FAKE LOVE' Official MV\n",
      "30486                  BTS (방탄소년단) 'FAKE LOVE' Official MV\n",
      "30291                  BTS (방탄소년단) 'FAKE LOVE' Official MV\n",
      "30171                  BTS (방탄소년단) 'FAKE LOVE' Official MV\n",
      "30069                  BTS (방탄소년단) 'FAKE LOVE' Official MV\n",
      "29969                  BTS (방탄소년단) 'FAKE LOVE' Official MV\n",
      "4856     YouTube Rewind: The Shape of 2017 | #YouTubeRe...\n",
      "4678     YouTube Rewind: The Shape of 2017 | #YouTubeRe...\n",
      "2788     BTS (방탄소년단) 'MIC Drop (Steve Aoki Remix)' Offi...\n",
      "4018     Marvel Studios' Avengers: Infinity War Officia...\n",
      "3750     Marvel Studios' Avengers: Infinity War Officia...\n",
      "2563     BTS (방탄소년단) 'MIC Drop (Steve Aoki Remix)' Offi...\n",
      "28605    BTS (방탄소년단) LOVE YOURSELF 轉 Tear 'Singularity'...\n",
      "3544     Marvel Studios' Avengers: Infinity War Officia...\n",
      "28371    BTS (방탄소년단) LOVE YOURSELF 轉 Tear 'Singularity'...\n",
      "28554    Childish Gambino - This Is America (Official V...\n",
      "2330     BTS (방탄소년단) 'MIC Drop (Steve Aoki Remix)' Offi...\n",
      "3381     Marvel Studios' Avengers: Infinity War Officia...\n",
      "28139    BTS (방탄소년단) LOVE YOURSELF 轉 Tear 'Singularity'...\n",
      "Name: title, dtype: object\n"
     ]
    }
   ],
   "source": [
    "print(KR_likes25[\"title\"].head(20))"
   ]
  },
  {
   "cell_type": "code",
   "execution_count": 278,
   "metadata": {},
   "outputs": [
    {
     "name": "stdout",
     "output_type": "stream",
     "text": [
      "8641\n",
      "8641\n",
      "7873\n"
     ]
    }
   ],
   "source": [
    "total_25 = pd.concat([KR_likes25, KR_dislikes25])\n",
    "total_25[\"duplicated\"] = total_25.duplicated()\n",
    "\n",
    "# 좋아요 상위 25% 중에서 싫어요 상위 25%와 겹치지 않는 영상들  \n",
    "unique_25 = total_25.loc[total_25[\"duplicated\"] == False, :]\n",
    "\n",
    "# 좋아요 상위 25% 영상 개수\n",
    "print(KR_likes25.shape[0])\n",
    "# 싫어요 상위 25% 영상 개수\n",
    "print(KR_dislikes25.shape[0])\n",
    "# 좋아요/싫어요 둘 중 하나에만 해당되는 영상 개수 \n",
    "print(unique_25.shape[0])"
   ]
  },
  {
   "cell_type": "markdown",
   "metadata": {},
   "source": [
    "#### 상위 25%에 해당하는 영상의 개수는 8641개인데, 그 중 7873개의 영상이 겹치지 않는다. 즉 좋아요와 싫어요, 모두를 많이 받은 영상은 768개로 약 9%를 차지한다.  따라서 겹치는 영상이 많기 때문에 좋아요 카테고리와 싫어요 카테고리의 순위가 일치한다고 볼 수 없다. \n",
    "#### 단, 좋아요 최상위권과 싫어요 최상위권은 다소 중복되는 경향이 있었는데, 제목을 살펴보면 대부분 BTS(방탄소년단)의 공식 뮤직비디오였다. 이러한 현상은 팬덤 간 상호 견제, BTS 유행에 따른 호기심과 대중의 적극적 평가 등이 영향을 미쳤을 것으로 예상된다. "
   ]
  },
  {
   "cell_type": "markdown",
   "metadata": {},
   "source": [
    "## [결론]\n",
    "\n",
    "### 한국 Youtube 동영상 중에서 가장 좋아요 혹은 싫어요가 많은 카테고리는 Entertainment였으며, 좋아요가 많은 카테고리 순위와 싫어요가 많은 카테고리 순위가 동일했다. \n",
    "### 본 분석을 통해 Entertainment, Music, People&Blogs, Comedy 콘텐츠에 대한 한국인의 반응이 활발하게 일어난다는 것을 알 수 있었다. "
   ]
  },
  {
   "cell_type": "code",
   "execution_count": null,
   "metadata": {},
   "outputs": [],
   "source": []
  }
 ],
 "metadata": {
  "kernelspec": {
   "display_name": "Python 3",
   "language": "python",
   "name": "python3"
  },
  "language_info": {
   "codemirror_mode": {
    "name": "ipython",
    "version": 3
   },
   "file_extension": ".py",
   "mimetype": "text/x-python",
   "name": "python",
   "nbconvert_exporter": "python",
   "pygments_lexer": "ipython3",
   "version": "3.7.0"
  }
 },
 "nbformat": 4,
 "nbformat_minor": 2
}
