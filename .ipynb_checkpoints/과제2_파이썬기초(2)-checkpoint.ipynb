{
 "cells": [
  {
   "cell_type": "markdown",
   "metadata": {},
   "source": [
    "# 과제2 : 파이썬 기초(2)\n",
    "## 제어문(for,while)/함수\n",
    "### 제출기한 : 9월 23일 월요일 18:59까지\n",
    "\n",
    "### 시간 오래 걸린 문제: 6번, 9번 (인덴트 신경쓰기 / import하기 / 함수에서 return과 print의 차이)"
   ]
  },
  {
   "cell_type": "markdown",
   "metadata": {},
   "source": [
    "### 1. menu 리스트에는 판매중인 메뉴가 저장돼 있다. 아래와 같이 화면에 출력하라."
   ]
  },
  {
   "cell_type": "code",
   "execution_count": 2,
   "metadata": {},
   "outputs": [],
   "source": [
    "menu = [\"김밥\", \"라면\", \"튀김\"]"
   ]
  },
  {
   "cell_type": "code",
   "execution_count": 3,
   "metadata": {},
   "outputs": [
    {
     "name": "stdout",
     "output_type": "stream",
     "text": [
      "오늘의 메뉴:김밥\n",
      "오늘의 메뉴:라면\n",
      "오늘의 메뉴:튀김\n"
     ]
    }
   ],
   "source": [
    "실행 예"
   ]
  },
  {
   "cell_type": "code",
   "execution_count": 3,
   "metadata": {},
   "outputs": [
    {
     "name": "stdout",
     "output_type": "stream",
     "text": [
      "오늘의 메뉴:김밥\n",
      "오늘의 메뉴:라면\n",
      "오늘의 메뉴:튀김\n"
     ]
    }
   ],
   "source": [
    "for food in menu:\n",
    "    print(\"오늘의 메뉴:\" + food)"
   ]
  },
  {
   "cell_type": "markdown",
   "metadata": {},
   "source": [
    "### 2. 다음과 같이 판매가가 저장된 리스트가 있을 때 부가세가 포함된 가격을 화면에 출력하라. 단 부가세는 10%로 가정한다."
   ]
  },
  {
   "cell_type": "code",
   "execution_count": 4,
   "metadata": {},
   "outputs": [],
   "source": [
    "prices = [100, 200, 300]"
   ]
  },
  {
   "cell_type": "code",
   "execution_count": 6,
   "metadata": {},
   "outputs": [
    {
     "name": "stdout",
     "output_type": "stream",
     "text": [
      "110.0\n",
      "220.0\n",
      "330.0\n"
     ]
    }
   ],
   "source": [
    "실행 예"
   ]
  },
  {
   "cell_type": "code",
   "execution_count": 5,
   "metadata": {},
   "outputs": [
    {
     "name": "stdout",
     "output_type": "stream",
     "text": [
      "110.0\n",
      "220.0\n",
      "330.0\n"
     ]
    }
   ],
   "source": [
    "for price in prices:\n",
    "    print(round(price * 1.1, 2))"
   ]
  },
  {
   "cell_type": "markdown",
   "metadata": {},
   "source": [
    "### 3. my_list의 데이터 중에서 홀수 번째 위치의 값을 화면에 출력하라."
   ]
  },
  {
   "cell_type": "code",
   "execution_count": 6,
   "metadata": {},
   "outputs": [],
   "source": [
    "my_list = [1, 2, 3, 4, 5, 6]"
   ]
  },
  {
   "cell_type": "code",
   "execution_count": 3,
   "metadata": {},
   "outputs": [
    {
     "name": "stdout",
     "output_type": "stream",
     "text": [
      "1\n",
      "3\n",
      "5\n"
     ]
    }
   ],
   "source": [
    "실행 예"
   ]
  },
  {
   "cell_type": "code",
   "execution_count": 7,
   "metadata": {},
   "outputs": [
    {
     "name": "stdout",
     "output_type": "stream",
     "text": [
      "1\n",
      "3\n",
      "5\n"
     ]
    }
   ],
   "source": [
    "for list in my_list:\n",
    "    if list % 2 == 1:\n",
    "        print(list)"
   ]
  },
  {
   "cell_type": "markdown",
   "metadata": {},
   "source": [
    "### 4. 파일 이름이 리스트에 저장되어 있을 때 확장자가 *.h인 파일을 출력하라. (힌트: split 메서드를 사용)"
   ]
  },
  {
   "cell_type": "code",
   "execution_count": 8,
   "metadata": {},
   "outputs": [],
   "source": [
    "filenames = ['intra.h', 'intra.c', 'define.h', 'run.py']"
   ]
  },
  {
   "cell_type": "code",
   "execution_count": 25,
   "metadata": {},
   "outputs": [
    {
     "name": "stdout",
     "output_type": "stream",
     "text": [
      "intra.h\n",
      "define.h\n"
     ]
    }
   ],
   "source": [
    "실행 예"
   ]
  },
  {
   "cell_type": "code",
   "execution_count": 9,
   "metadata": {},
   "outputs": [
    {
     "name": "stdout",
     "output_type": "stream",
     "text": [
      "intra.h\n",
      "define.h\n"
     ]
    }
   ],
   "source": [
    "for file in filenames:\n",
    "    splited = file.split(\".\")  # 온점(.)을 기준으로 문자 나누기 \n",
    "    if splited[1] == \"h\":  # 온점(.) 뒷부분이의 값이 h인 파일\n",
    "        print(file)"
   ]
  },
  {
   "cell_type": "markdown",
   "metadata": {},
   "source": [
    "### 5. while문을 사용해 1부터 100까지의 자연수 중 홀수의 합을 출력하라. "
   ]
  },
  {
   "cell_type": "code",
   "execution_count": 8,
   "metadata": {},
   "outputs": [
    {
     "name": "stdout",
     "output_type": "stream",
     "text": [
      "2500\n"
     ]
    }
   ],
   "source": [
    "실행 예"
   ]
  },
  {
   "cell_type": "code",
   "execution_count": 10,
   "metadata": {},
   "outputs": [
    {
     "name": "stdout",
     "output_type": "stream",
     "text": [
      "2500\n"
     ]
    }
   ],
   "source": [
    "num = 1\n",
    "result = 0\n",
    "while num <= 100:\n",
    "    if num % 2 == 1:\n",
    "        result += num\n",
    "    num += 1\n",
    "print(result)"
   ]
  },
  {
   "cell_type": "markdown",
   "metadata": {},
   "source": [
    "### 6. while문을 사용해 다음과 같이 별(*)을 표시하는 프로그램을 만들어라."
   ]
  },
  {
   "cell_type": "code",
   "execution_count": 10,
   "metadata": {},
   "outputs": [
    {
     "name": "stdout",
     "output_type": "stream",
     "text": [
      " *********\n",
      "  *******\n",
      "   *****\n",
      "    ***\n",
      "     *\n",
      "      \n"
     ]
    }
   ],
   "source": [
    "실행 예"
   ]
  },
  {
   "cell_type": "code",
   "execution_count": 11,
   "metadata": {},
   "outputs": [
    {
     "name": "stdout",
     "output_type": "stream",
     "text": [
      " *********\n",
      "  *******\n",
      "   *****\n",
      "    ***\n",
      "     *\n"
     ]
    }
   ],
   "source": [
    "counter = 1  # while 반복문 시행 횟수 정의 \n",
    "while True:\n",
    "    space = \" \"*counter  # 공백 정의 \n",
    "    star = \"*\"*((5-counter)*2 + 1)  # 별표 부분 정의 \n",
    "    result = space + star  # 공백과 별표 합치기\n",
    "    print(result)\n",
    "    counter += 1\n",
    "    if counter > 5:\n",
    "        break\n"
   ]
  },
  {
   "cell_type": "markdown",
   "metadata": {},
   "source": [
    "### 7. \"비트코인\" 문자열을 화면에 출력하는 print_coin() 함수를 정의하고, 정의한 함수를 호출하라."
   ]
  },
  {
   "cell_type": "code",
   "execution_count": 27,
   "metadata": {},
   "outputs": [
    {
     "name": "stdout",
     "output_type": "stream",
     "text": [
      "비트코인\n"
     ]
    }
   ],
   "source": [
    "실행 예"
   ]
  },
  {
   "cell_type": "code",
   "execution_count": 12,
   "metadata": {},
   "outputs": [
    {
     "name": "stdout",
     "output_type": "stream",
     "text": [
      "비트코인\n"
     ]
    }
   ],
   "source": [
    "def print_coin():\n",
    "    print(\"비트코인\")\n",
    "\n",
    "print_coin()"
   ]
  },
  {
   "cell_type": "markdown",
   "metadata": {},
   "source": [
    "### 8. 세 개의 수를 매개변수로 입력받아 평균을 반환하는 함수 mean_3nums()를 정의하고, 이 함수를 이용해 183, 203, 229의 평균을 출력하라."
   ]
  },
  {
   "cell_type": "code",
   "execution_count": 29,
   "metadata": {},
   "outputs": [
    {
     "name": "stdout",
     "output_type": "stream",
     "text": [
      "205.0\n"
     ]
    }
   ],
   "source": [
    "실행 예"
   ]
  },
  {
   "cell_type": "code",
   "execution_count": 18,
   "metadata": {},
   "outputs": [
    {
     "name": "stdout",
     "output_type": "stream",
     "text": [
      "205.0\n"
     ]
    }
   ],
   "source": [
    "def mean_3nums(num1, num2, num3):\n",
    "    mean = (num1 + num2 + num3) / 3  # 평균 계산 \n",
    "    print(mean)\n",
    "    \n",
    "mean_3nums(183, 203, 229)  # 함수 적용 "
   ]
  },
  {
   "cell_type": "markdown",
   "metadata": {},
   "source": [
    "### 9. 개수에 제한 없이 매개변수로 입력받은 수들의 평균이나 표준편차를 반환하는 함수 stat_nums()를 정의하고, 이 함수를 이용해 242, 342, 121의 평균과 표준편차를 출력하라. \n",
    "#### (단, choice 매개변수가 'sd'일 때 표준편차, 'mean'일 때 평균을 반환하며, 제곱근은 math.sqrt(num)를 이용한다.)"
   ]
  },
  {
   "cell_type": "code",
   "execution_count": 15,
   "metadata": {},
   "outputs": [
    {
     "name": "stdout",
     "output_type": "stream",
     "text": [
      "235.0\n",
      "90.35854506723018\n"
     ]
    }
   ],
   "source": [
    "실행 예"
   ]
  },
  {
   "cell_type": "code",
   "execution_count": 13,
   "metadata": {},
   "outputs": [
    {
     "data": {
      "text/plain": [
       "2.0"
      ]
     },
     "execution_count": 13,
     "metadata": {},
     "output_type": "execute_result"
    }
   ],
   "source": [
    "#제곱근 구하는 법 : 제곱근은 내장함수가 없기 때문에 math를 임포트하여 함수를 사용한다.\n",
    "import math as math\n",
    "math.sqrt(4)"
   ]
  },
  {
   "cell_type": "code",
   "execution_count": 80,
   "metadata": {},
   "outputs": [
    {
     "name": "stdout",
     "output_type": "stream",
     "text": [
      "235.0\n"
     ]
    }
   ],
   "source": [
    "import math\n",
    "\n",
    "def stat_nums(choice, *args):\n",
    "    if choice == 'mean':\n",
    "        total = 0 \n",
    "        for i in args:\n",
    "            total += i\n",
    "        global mean\n",
    "        mean = total / len(args)\n",
    "        result = mean\n",
    "        return result\n",
    "    if choice == 'sd':\n",
    "        ss = 0\n",
    "        for i in args:\n",
    "            ss += (i - mean)**2  # 제곱합 \n",
    "        var = ss / len(args)  # 분산 \n",
    "        sd = math.sqrt(var) # 표준편차\n",
    "        result = sd\n",
    "    return result\n",
    "    "
   ]
  },
  {
   "cell_type": "code",
   "execution_count": 82,
   "metadata": {},
   "outputs": [
    {
     "name": "stdout",
     "output_type": "stream",
     "text": [
      "235.0\n",
      "90.35854506723018\n"
     ]
    }
   ],
   "source": [
    "print(stat_nums('mean', 242, 342, 121))  # 242, 342, 121의 평균 계산 \n",
    "print(stat_nums('sd',  242, 342, 121))  # 242, 342, 121의 표준편차 계산 "
   ]
  },
  {
   "cell_type": "markdown",
   "metadata": {},
   "source": [
    "### 10. 매개변수로 입력받은 수의 1부터 9까지의 곱을 리스트로 반환하는 함수 gugu()를 정의하고, 이 함수를 이용해 구구단 7단을 출력하라."
   ]
  },
  {
   "cell_type": "code",
   "execution_count": 33,
   "metadata": {
    "scrolled": true
   },
   "outputs": [
    {
     "data": {
      "text/plain": [
       "[7, 14, 21, 28, 35, 42, 49, 56, 63]"
      ]
     },
     "execution_count": 33,
     "metadata": {},
     "output_type": "execute_result"
    }
   ],
   "source": [
    "실행 예\n",
    "print(gugu(7))"
   ]
  },
  {
   "cell_type": "code",
   "execution_count": 93,
   "metadata": {},
   "outputs": [
    {
     "name": "stdout",
     "output_type": "stream",
     "text": [
      "[7, 14, 21, 28, 35, 42, 49, 56, 63]\n"
     ]
    }
   ],
   "source": [
    "def gugu(num):\n",
    "    result = []\n",
    "    for i in range(1, 10):\n",
    "        result.append(num*i)\n",
    "    return result  # 만일 여기에서 return이 아닌 print 함수를 사용할 경우, 아래에서 결과값을 출력할 때 print 함수를 사용하기 때문에, print 함수를 2번 중복 사용하는 꼴이 되어서, None이 출력된다. 따라서 return 명령어를 쓰자!\n",
    "    \n",
    "print(gugu(7))"
   ]
  }
 ],
 "metadata": {
  "kernelspec": {
   "display_name": "Python 3",
   "language": "python",
   "name": "python3"
  },
  "language_info": {
   "codemirror_mode": {
    "name": "ipython",
    "version": 3
   },
   "file_extension": ".py",
   "mimetype": "text/x-python",
   "name": "python",
   "nbconvert_exporter": "python",
   "pygments_lexer": "ipython3",
   "version": "3.7.0"
  }
 },
 "nbformat": 4,
 "nbformat_minor": 2
}
