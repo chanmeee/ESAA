{
 "cells": [
  {
   "cell_type": "markdown",
   "metadata": {},
   "source": [
    "# ESAA 팀 과제 \n",
    "# 2019년 11월 1일 \n",
    "### 김지원, 박보정, 유찬미, 예지혜"
   ]
  },
  {
   "cell_type": "markdown",
   "metadata": {},
   "source": [
    "### [통합 주제] 영국.미국.캐나다의 자료를 모두 통합하여 조회수로 정렬한 뒤, 어떤 나라가 가장 조회수가 많은지 알아보겠다."
   ]
  },
  {
   "cell_type": "code",
   "execution_count": 18,
   "metadata": {},
   "outputs": [],
   "source": [
    "import pandas as pd\n",
    "us = pd.read_csv('USvideos.csv')\n",
    "ca = pd.read_csv('CAvideos.csv')\n",
    "gb = pd.read_csv('GBvideos.csv')"
   ]
  },
  {
   "cell_type": "markdown",
   "metadata": {},
   "source": [
    "country 변수 추가하기"
   ]
  },
  {
   "cell_type": "code",
   "execution_count": 19,
   "metadata": {},
   "outputs": [],
   "source": [
    "us[\"country\"] = \"US\"\n",
    "ca[\"country\"] = \"CA\"\n",
    "gb[\"country\"] = \"GB\""
   ]
  },
  {
   "cell_type": "markdown",
   "metadata": {},
   "source": [
    "2) merge실행"
   ]
  },
  {
   "cell_type": "code",
   "execution_count": 20,
   "metadata": {},
   "outputs": [
    {
     "data": {
      "text/plain": [
       "True"
      ]
     },
     "execution_count": 20,
     "metadata": {},
     "output_type": "execute_result"
    }
   ],
   "source": [
    "list(us)==list(ca)\n",
    "list(us)==list(us)"
   ]
  },
  {
   "cell_type": "code",
   "execution_count": 21,
   "metadata": {},
   "outputs": [
    {
     "name": "stdout",
     "output_type": "stream",
     "text": [
      "(120746, 17)\n"
     ]
    }
   ],
   "source": [
    "youtube_merge = pd.concat([ca,us,gb])\n",
    "print(youtube_merge.shape)"
   ]
  },
  {
   "cell_type": "markdown",
   "metadata": {},
   "source": [
    "3) 조회수로 sort"
   ]
  },
  {
   "cell_type": "markdown",
   "metadata": {},
   "source": [
    "4) 100위까지 자르기."
   ]
  },
  {
   "cell_type": "code",
   "execution_count": 22,
   "metadata": {},
   "outputs": [],
   "source": [
    "youtube_sort = youtube_merge.sort_values([\"views\"], ascending=[False])\n",
    "youtube_sort=youtube_sort.reset_index(drop=True)"
   ]
  },
  {
   "cell_type": "code",
   "execution_count": 23,
   "metadata": {},
   "outputs": [],
   "source": [
    "youtube_100 = youtube_sort.iloc[0:100, ]"
   ]
  },
  {
   "cell_type": "markdown",
   "metadata": {},
   "source": [
    "5) 나라별로 갯수세기"
   ]
  },
  {
   "cell_type": "code",
   "execution_count": 24,
   "metadata": {},
   "outputs": [
    {
     "data": {
      "text/plain": [
       "GB    93\n",
       "US     7\n",
       "Name: country, dtype: int64"
      ]
     },
     "execution_count": 24,
     "metadata": {},
     "output_type": "execute_result"
    }
   ],
   "source": [
    "youtube_100[\"country\"].value_counts()"
   ]
  },
  {
   "cell_type": "code",
   "execution_count": 25,
   "metadata": {},
   "outputs": [
    {
     "data": {
      "text/plain": [
       "0    GB\n",
       "1    GB\n",
       "2    GB\n",
       "3    GB\n",
       "4    GB\n",
       "Name: country, dtype: object"
      ]
     },
     "execution_count": 25,
     "metadata": {},
     "output_type": "execute_result"
    }
   ],
   "source": [
    "youtube_100[\"country\"].head()"
   ]
  },
  {
   "cell_type": "markdown",
   "metadata": {},
   "source": [
    "2-1) 그래프 그리기"
   ]
  },
  {
   "cell_type": "code",
   "execution_count": 26,
   "metadata": {},
   "outputs": [],
   "source": [
    "%matplotlib inline \n",
    "import matplotlib.pyplot as plt\n",
    "import seaborn as sns"
   ]
  },
  {
   "cell_type": "code",
   "execution_count": 27,
   "metadata": {},
   "outputs": [
    {
     "data": {
      "text/plain": [
       "Text(0, 0.5, 'Frequency')"
      ]
     },
     "execution_count": 27,
     "metadata": {},
     "output_type": "execute_result"
    },
    {
     "data": {
      "image/png": "[encoded data removed]",
      "text/plain": [
       "<Figure size 432x288 with 1 Axes>"
      ]
     },
     "metadata": {
      "needs_background": "light"
     },
     "output_type": "display_data"
    }
   ],
   "source": [
    "country_bar = plt.subplots() \n",
    "country_bar = sns.countplot('country', data=youtube_100)  \n",
    "country_bar.set_xlabel('country') \n",
    "country_bar.set_ylabel('Frequency')"
   ]
  },
  {
   "cell_type": "markdown",
   "metadata": {},
   "source": [
    "조회수 100위로 잘라 막대그래프를 보니, 영국이 가장 많은 것을 확인할 수 있다.\n",
    "추가) 나열해보니, 겹치는 영상이 많은 것을 알 수 있었다. 임의로 비디오 아이디가 중복되는 행은 지우고 다시 그래프를 그려서 알아보고자 한다."
   ]
  },
  {
   "cell_type": "code",
   "execution_count": 28,
   "metadata": {},
   "outputs": [
    {
     "data": {
      "text/plain": [
       "0         False\n",
       "1          True\n",
       "2          True\n",
       "3          True\n",
       "4          True\n",
       "5          True\n",
       "6          True\n",
       "7          True\n",
       "8          True\n",
       "9         False\n",
       "10        False\n",
       "11         True\n",
       "12         True\n",
       "13         True\n",
       "14         True\n",
       "15         True\n",
       "16         True\n",
       "17         True\n",
       "18         True\n",
       "19         True\n",
       "20         True\n",
       "21         True\n",
       "22         True\n",
       "23         True\n",
       "24        False\n",
       "25         True\n",
       "26         True\n",
       "27         True\n",
       "28         True\n",
       "29         True\n",
       "          ...  \n",
       "120716     True\n",
       "120717     True\n",
       "120718     True\n",
       "120719     True\n",
       "120720     True\n",
       "120721     True\n",
       "120722     True\n",
       "120723     True\n",
       "120724     True\n",
       "120725     True\n",
       "120726    False\n",
       "120727     True\n",
       "120728     True\n",
       "120729     True\n",
       "120730    False\n",
       "120731     True\n",
       "120732     True\n",
       "120733     True\n",
       "120734     True\n",
       "120735    False\n",
       "120736    False\n",
       "120737    False\n",
       "120738     True\n",
       "120739     True\n",
       "120740    False\n",
       "120741     True\n",
       "120742     True\n",
       "120743    False\n",
       "120744     True\n",
       "120745     True\n",
       "Name: video_id, Length: 120746, dtype: bool"
      ]
     },
     "execution_count": 28,
     "metadata": {},
     "output_type": "execute_result"
    }
   ],
   "source": [
    "youtube_sort['video_id'].duplicated() \n",
    "#중복영상들 확인 (TRUE값이 중복값 있다는 것 의미.)"
   ]
  },
  {
   "cell_type": "markdown",
   "metadata": {},
   "source": [
    "중복된 데이터 지우고 확인. 인덱스를 보니 중복된 값이 없어진 것을 알 수 있음."
   ]
  },
  {
   "cell_type": "code",
   "execution_count": 29,
   "metadata": {},
   "outputs": [
    {
     "data": {
      "text/html": [
       "<div>\n",
       "<style scoped>\n",
       "    .dataframe tbody tr th:only-of-type {\n",
       "        vertical-align: middle;\n",
       "    }\n",
       "\n",
       "    .dataframe tbody tr th {\n",
       "        vertical-align: top;\n",
       "    }\n",
       "\n",
       "    .dataframe thead th {\n",
       "        text-align: right;\n",
       "    }\n",
       "</style>\n",
       "<table border=\"1\" class=\"dataframe\">\n",
       "  <thead>\n",
       "    <tr style=\"text-align: right;\">\n",
       "      <th></th>\n",
       "      <th>video_id</th>\n",
       "      <th>trending_date</th>\n",
       "      <th>title</th>\n",
       "      <th>channel_title</th>\n",
       "      <th>category_id</th>\n",
       "      <th>publish_time</th>\n",
       "      <th>tags</th>\n",
       "      <th>views</th>\n",
       "      <th>likes</th>\n",
       "      <th>dislikes</th>\n",
       "      <th>comment_count</th>\n",
       "      <th>thumbnail_link</th>\n",
       "      <th>comments_disabled</th>\n",
       "      <th>ratings_disabled</th>\n",
       "      <th>video_error_or_removed</th>\n",
       "      <th>description</th>\n",
       "      <th>country</th>\n",
       "    </tr>\n",
       "  </thead>\n",
       "  <tbody>\n",
       "    <tr>\n",
       "      <th>0</th>\n",
       "      <td>_I_D_8Z4sJE</td>\n",
       "      <td>18.07.04</td>\n",
       "      <td>Nicky Jam x J. Balvin - X (EQUIS) | Video Ofic...</td>\n",
       "      <td>NickyJamTV</td>\n",
       "      <td>10</td>\n",
       "      <td>2018-03-02T05:00:19.000Z</td>\n",
       "      <td>Bad Bunny|\"Amorfoda\"|\"Dura\"|\"Daddy Yankee\"|\"Oz...</td>\n",
       "      <td>424538912</td>\n",
       "      <td>2818771</td>\n",
       "      <td>149275</td>\n",
       "      <td>99380</td>\n",
       "      <td>https://i.ytimg.com/vi/_I_D_8Z4sJE/default.jpg</td>\n",
       "      <td>False</td>\n",
       "      <td>False</td>\n",
       "      <td>False</td>\n",
       "      <td>Disponible en tu plataforma preferida:\\nhttps:...</td>\n",
       "      <td>GB</td>\n",
       "    </tr>\n",
       "    <tr>\n",
       "      <th>9</th>\n",
       "      <td>9jI-z9QN6g8</td>\n",
       "      <td>18.18.05</td>\n",
       "      <td>Te Bote Remix - Casper, Nio García, Darell, Ni...</td>\n",
       "      <td>Flow La Movie</td>\n",
       "      <td>10</td>\n",
       "      <td>2018-04-11T22:00:00.000Z</td>\n",
       "      <td>Te Bote|\"Te Bote Remix\"|\"Flow La Movie\"|\"Ozuna...</td>\n",
       "      <td>337621571</td>\n",
       "      <td>2581961</td>\n",
       "      <td>166549</td>\n",
       "      <td>113564</td>\n",
       "      <td>https://i.ytimg.com/vi/9jI-z9QN6g8/default.jpg</td>\n",
       "      <td>False</td>\n",
       "      <td>False</td>\n",
       "      <td>False</td>\n",
       "      <td>Flow La Movie Presenta - Te Boté Remix - Caspe...</td>\n",
       "      <td>GB</td>\n",
       "    </tr>\n",
       "    <tr>\n",
       "      <th>10</th>\n",
       "      <td>kLpH1nSLJSs</td>\n",
       "      <td>18.23.03</td>\n",
       "      <td>Bad Bunny - Amorfoda | Video Oficial</td>\n",
       "      <td>Bad Bunny</td>\n",
       "      <td>10</td>\n",
       "      <td>2018-02-15T00:00:03.000Z</td>\n",
       "      <td>Bad|\"Bunny\"|\"Bad Bunny\"|\"Video Oficial\"|\"Music...</td>\n",
       "      <td>328860380</td>\n",
       "      <td>3823879</td>\n",
       "      <td>215530</td>\n",
       "      <td>225216</td>\n",
       "      <td>https://i.ytimg.com/vi/kLpH1nSLJSs/default.jpg</td>\n",
       "      <td>False</td>\n",
       "      <td>False</td>\n",
       "      <td>False</td>\n",
       "      <td>Bad Bunny - Amorfoda | Video Oficial\\n\\n-Click...</td>\n",
       "      <td>GB</td>\n",
       "    </tr>\n",
       "    <tr>\n",
       "      <th>24</th>\n",
       "      <td>wfWkmURBNv8</td>\n",
       "      <td>18.01.03</td>\n",
       "      <td>Ozuna x Romeo Santos - El Farsante Remix</td>\n",
       "      <td>Ozuna</td>\n",
       "      <td>10</td>\n",
       "      <td>2018-01-30T15:00:05.000Z</td>\n",
       "      <td>Ozuna|\"Reggaeton\"|\"Odisea\"|\"Odisea The Album\"|...</td>\n",
       "      <td>288811992</td>\n",
       "      <td>1618180</td>\n",
       "      <td>151147</td>\n",
       "      <td>67506</td>\n",
       "      <td>https://i.ytimg.com/vi/wfWkmURBNv8/default.jpg</td>\n",
       "      <td>False</td>\n",
       "      <td>False</td>\n",
       "      <td>False</td>\n",
       "      <td>DESCARGA Odisea Aqui: http://apple.co/2vX00sT\\...</td>\n",
       "      <td>GB</td>\n",
       "    </tr>\n",
       "    <tr>\n",
       "      <th>38</th>\n",
       "      <td>VYOjWnS4cMY</td>\n",
       "      <td>18.11.06</td>\n",
       "      <td>Childish Gambino - This Is America (Official V...</td>\n",
       "      <td>ChildishGambinoVEVO</td>\n",
       "      <td>10</td>\n",
       "      <td>2018-05-06T04:00:07.000Z</td>\n",
       "      <td>Childish Gambino|\"Rap\"|\"This Is America\"|\"mcDJ...</td>\n",
       "      <td>259721696</td>\n",
       "      <td>5444541</td>\n",
       "      <td>379862</td>\n",
       "      <td>553371</td>\n",
       "      <td>https://i.ytimg.com/vi/VYOjWnS4cMY/default.jpg</td>\n",
       "      <td>False</td>\n",
       "      <td>False</td>\n",
       "      <td>False</td>\n",
       "      <td>“This is America” by Childish Gambino http://s...</td>\n",
       "      <td>GB</td>\n",
       "    </tr>\n",
       "  </tbody>\n",
       "</table>\n",
       "</div>"
      ],
      "text/plain": [
       "       video_id trending_date  \\\n",
       "0   _I_D_8Z4sJE      18.07.04   \n",
       "9   9jI-z9QN6g8      18.18.05   \n",
       "10  kLpH1nSLJSs      18.23.03   \n",
       "24  wfWkmURBNv8      18.01.03   \n",
       "38  VYOjWnS4cMY      18.11.06   \n",
       "\n",
       "                                                title        channel_title  \\\n",
       "0   Nicky Jam x J. Balvin - X (EQUIS) | Video Ofic...           NickyJamTV   \n",
       "9   Te Bote Remix - Casper, Nio García, Darell, Ni...        Flow La Movie   \n",
       "10               Bad Bunny - Amorfoda | Video Oficial            Bad Bunny   \n",
       "24           Ozuna x Romeo Santos - El Farsante Remix                Ozuna   \n",
       "38  Childish Gambino - This Is America (Official V...  ChildishGambinoVEVO   \n",
       "\n",
       "    category_id              publish_time  \\\n",
       "0            10  2018-03-02T05:00:19.000Z   \n",
       "9            10  2018-04-11T22:00:00.000Z   \n",
       "10           10  2018-02-15T00:00:03.000Z   \n",
       "24           10  2018-01-30T15:00:05.000Z   \n",
       "38           10  2018-05-06T04:00:07.000Z   \n",
       "\n",
       "                                                 tags      views    likes  \\\n",
       "0   Bad Bunny|\"Amorfoda\"|\"Dura\"|\"Daddy Yankee\"|\"Oz...  424538912  2818771   \n",
       "9   Te Bote|\"Te Bote Remix\"|\"Flow La Movie\"|\"Ozuna...  337621571  2581961   \n",
       "10  Bad|\"Bunny\"|\"Bad Bunny\"|\"Video Oficial\"|\"Music...  328860380  3823879   \n",
       "24  Ozuna|\"Reggaeton\"|\"Odisea\"|\"Odisea The Album\"|...  288811992  1618180   \n",
       "38  Childish Gambino|\"Rap\"|\"This Is America\"|\"mcDJ...  259721696  5444541   \n",
       "\n",
       "    dislikes  comment_count                                  thumbnail_link  \\\n",
       "0     149275          99380  https://i.ytimg.com/vi/_I_D_8Z4sJE/default.jpg   \n",
       "9     166549         113564  https://i.ytimg.com/vi/9jI-z9QN6g8/default.jpg   \n",
       "10    215530         225216  https://i.ytimg.com/vi/kLpH1nSLJSs/default.jpg   \n",
       "24    151147          67506  https://i.ytimg.com/vi/wfWkmURBNv8/default.jpg   \n",
       "38    379862         553371  https://i.ytimg.com/vi/VYOjWnS4cMY/default.jpg   \n",
       "\n",
       "    comments_disabled  ratings_disabled  video_error_or_removed  \\\n",
       "0               False             False                   False   \n",
       "9               False             False                   False   \n",
       "10              False             False                   False   \n",
       "24              False             False                   False   \n",
       "38              False             False                   False   \n",
       "\n",
       "                                          description country  \n",
       "0   Disponible en tu plataforma preferida:\\nhttps:...      GB  \n",
       "9   Flow La Movie Presenta - Te Boté Remix - Caspe...      GB  \n",
       "10  Bad Bunny - Amorfoda | Video Oficial\\n\\n-Click...      GB  \n",
       "24  DESCARGA Odisea Aqui: http://apple.co/2vX00sT\\...      GB  \n",
       "38  “This is America” by Childish Gambino http://s...      GB  "
      ]
     },
     "execution_count": 29,
     "metadata": {},
     "output_type": "execute_result"
    }
   ],
   "source": [
    "youtube_drop = youtube_sort.drop_duplicates('video_id') \n",
    "youtube_drop.head()"
   ]
  },
  {
   "cell_type": "code",
   "execution_count": 30,
   "metadata": {},
   "outputs": [
    {
     "name": "stdout",
     "output_type": "stream",
     "text": [
      "(30318, 17)\n"
     ]
    }
   ],
   "source": [
    "print(youtube_drop.shape)"
   ]
  },
  {
   "cell_type": "markdown",
   "metadata": {},
   "source": [
    "중복 제거 전 (120746, 17) 였으나 제거 후에 30318행이 된 것을 확인할 수 있다.\n",
    "\n",
    "우선 30318개의 자료로 먼저 나라별 그래프를 그려보겠다."
   ]
  },
  {
   "cell_type": "code",
   "execution_count": 31,
   "metadata": {},
   "outputs": [
    {
     "data": {
      "text/plain": [
       "Text(0, 0.5, 'Frequency')"
      ]
     },
     "execution_count": 31,
     "metadata": {},
     "output_type": "execute_result"
    },
    {
     "data": {
      "image/png": "[encoded data removed]",
      "text/plain": [
       "<Figure size 432x288 with 1 Axes>"
      ]
     },
     "metadata": {
      "needs_background": "light"
     },
     "output_type": "display_data"
    }
   ],
   "source": [
    "bar_total = plt.subplots() \n",
    "bar_total = sns.countplot('country', data=youtube_drop)  \n",
    "bar_total.set_xlabel('country') \n",
    "bar_total.set_ylabel('Frequency')"
   ]
  },
  {
   "cell_type": "markdown",
   "metadata": {},
   "source": [
    "조회수에 상관없이, 자료의 수는 캐나다가 월등히 많음을 알 수 있다."
   ]
  },
  {
   "cell_type": "code",
   "execution_count": 32,
   "metadata": {},
   "outputs": [
    {
     "data": {
      "text/plain": [
       "Text(0, 0.5, 'Frequency')"
      ]
     },
     "execution_count": 32,
     "metadata": {},
     "output_type": "execute_result"
    },
    {
     "data": {
      "image/png": "[encoded data removed]",
      "text/plain": [
       "<Figure size 432x288 with 1 Axes>"
      ]
     },
     "metadata": {
      "needs_background": "light"
     },
     "output_type": "display_data"
    }
   ],
   "source": [
    "drop_100 = youtube_drop.iloc[0:100,]\n",
    "bar1 = plt.subplots() \n",
    "bar1 = sns.countplot('country', data=drop_100)  \n",
    "bar1.set_xlabel('country') \n",
    "bar1.set_ylabel('Frequency')"
   ]
  },
  {
   "cell_type": "markdown",
   "metadata": {},
   "source": [
    "그러나 100위까지만 본다면, 여전히 영국이 우세하게 많음을 알 수 있다."
   ]
  },
  {
   "cell_type": "code",
   "execution_count": 33,
   "metadata": {},
   "outputs": [
    {
     "data": {
      "text/plain": [
       "Text(0, 0.5, 'views')"
      ]
     },
     "execution_count": 33,
     "metadata": {},
     "output_type": "execute_result"
    },
    {
     "data": {
      "image/png": "[encoded data removed]",
      "text/plain": [
       "<Figure size 432x288 with 1 Axes>"
      ]
     },
     "metadata": {
      "needs_background": "light"
     },
     "output_type": "display_data"
    }
   ],
   "source": [
    "plot2 = plt.subplots() \n",
    "plot2 = sns.boxplot(x='country',y='views', data= drop_100)\n",
    "plot2.set_xlabel('country') \n",
    "plot2.set_ylabel('views')"
   ]
  },
  {
   "cell_type": "markdown",
   "metadata": {},
   "source": [
    "마지막으로 나라별 조회수의 분포 모양을 보기위해서 박스 그림을 그려보았다. 영국이 미국, 캐나다에 비해서 높은 조회수 쪽에 분포하고 있는 것을 알 수 있다."
   ]
  },
  {
   "cell_type": "markdown",
   "metadata": {},
   "source": [
    "### [1번 주제] 조회수 100위까지 자르고, 태그 수를 비교/어떤 태그가 많이 사용되었는지 알아보기"
   ]
  },
  {
   "cell_type": "code",
   "execution_count": 34,
   "metadata": {},
   "outputs": [],
   "source": [
    "import pandas as pd\n",
    "input_fd = open('KRvideos.csv',errors = 'backslashreplace',encoding='utf-8')\n",
    "kr = pd.read_csv(input_fd)\n",
    "kr100 = kr.sort_values('views', ascending=False).iloc[:100,:]"
   ]
  },
  {
   "cell_type": "code",
   "execution_count": 35,
   "metadata": {},
   "outputs": [],
   "source": [
    "def string_handle(x): #문자열 처리 함수\n",
    "    x = x.lower() #소문자로 변경\n",
    "    x = x.replace('\"','') #\"제거\n",
    "    x = x.replace('#','') ##제거\n",
    "    x = x.replace('_', ' ') #_를 공백으로 변경\n",
    "    x = x.strip() #양쪽 공백 제거\n",
    "    return x"
   ]
  },
  {
   "cell_type": "code",
   "execution_count": 36,
   "metadata": {},
   "outputs": [],
   "source": [
    "tag100 = []\n",
    "for tags in kr100['tags']:\n",
    "    tag_lst = tags.split('|')\n",
    "    tag100.extend(tag_lst)\n",
    "handled_tag100 = [string_handle(x) for x in tag100]\n",
    "tag100_count=pd.DataFrame(data={'tag':handled_tag100}).groupby('tag').size().reset_index().rename(columns={0:'count'}).sort_values('count',ascending=False)"
   ]
  },
  {
   "cell_type": "code",
   "execution_count": 37,
   "metadata": {},
   "outputs": [
    {
     "data": {
      "text/plain": [
       "<matplotlib.axes._subplots.AxesSubplot at 0x1b2ea1999b0>"
      ]
     },
     "execution_count": 37,
     "metadata": {},
     "output_type": "execute_result"
    },
    {
     "name": "stderr",
     "output_type": "stream",
     "text": [
      "C:\\ProgramData\\Anaconda3\\lib\\site-packages\\matplotlib\\backends\\backend_agg.py:211: RuntimeWarning: Glyph 48169 missing from current font.\n",
      "  font.set_text(s, 0.0, flags=flags)\n",
      "C:\\ProgramData\\Anaconda3\\lib\\site-packages\\matplotlib\\backends\\backend_agg.py:211: RuntimeWarning: Glyph 53444 missing from current font.\n",
      "  font.set_text(s, 0.0, flags=flags)\n",
      "C:\\ProgramData\\Anaconda3\\lib\\site-packages\\matplotlib\\backends\\backend_agg.py:211: RuntimeWarning: Glyph 49548 missing from current font.\n",
      "  font.set_text(s, 0.0, flags=flags)\n",
      "C:\\ProgramData\\Anaconda3\\lib\\site-packages\\matplotlib\\backends\\backend_agg.py:211: RuntimeWarning: Glyph 45380 missing from current font.\n",
      "  font.set_text(s, 0.0, flags=flags)\n",
      "C:\\ProgramData\\Anaconda3\\lib\\site-packages\\matplotlib\\backends\\backend_agg.py:211: RuntimeWarning: Glyph 45800 missing from current font.\n",
      "  font.set_text(s, 0.0, flags=flags)\n",
      "C:\\ProgramData\\Anaconda3\\lib\\site-packages\\matplotlib\\backends\\backend_agg.py:211: RuntimeWarning: Glyph 48709 missing from current font.\n",
      "  font.set_text(s, 0.0, flags=flags)\n",
      "C:\\ProgramData\\Anaconda3\\lib\\site-packages\\matplotlib\\backends\\backend_agg.py:211: RuntimeWarning: Glyph 55176 missing from current font.\n",
      "  font.set_text(s, 0.0, flags=flags)\n",
      "C:\\ProgramData\\Anaconda3\\lib\\site-packages\\matplotlib\\backends\\backend_agg.py:211: RuntimeWarning: Glyph 53944 missing from current font.\n",
      "  font.set_text(s, 0.0, flags=flags)\n",
      "C:\\ProgramData\\Anaconda3\\lib\\site-packages\\matplotlib\\backends\\backend_agg.py:180: RuntimeWarning: Glyph 48169 missing from current font.\n",
      "  font.set_text(s, 0, flags=flags)\n",
      "C:\\ProgramData\\Anaconda3\\lib\\site-packages\\matplotlib\\backends\\backend_agg.py:180: RuntimeWarning: Glyph 53444 missing from current font.\n",
      "  font.set_text(s, 0, flags=flags)\n",
      "C:\\ProgramData\\Anaconda3\\lib\\site-packages\\matplotlib\\backends\\backend_agg.py:180: RuntimeWarning: Glyph 49548 missing from current font.\n",
      "  font.set_text(s, 0, flags=flags)\n",
      "C:\\ProgramData\\Anaconda3\\lib\\site-packages\\matplotlib\\backends\\backend_agg.py:180: RuntimeWarning: Glyph 45380 missing from current font.\n",
      "  font.set_text(s, 0, flags=flags)\n",
      "C:\\ProgramData\\Anaconda3\\lib\\site-packages\\matplotlib\\backends\\backend_agg.py:180: RuntimeWarning: Glyph 45800 missing from current font.\n",
      "  font.set_text(s, 0, flags=flags)\n",
      "C:\\ProgramData\\Anaconda3\\lib\\site-packages\\matplotlib\\backends\\backend_agg.py:180: RuntimeWarning: Glyph 48709 missing from current font.\n",
      "  font.set_text(s, 0, flags=flags)\n",
      "C:\\ProgramData\\Anaconda3\\lib\\site-packages\\matplotlib\\backends\\backend_agg.py:180: RuntimeWarning: Glyph 55176 missing from current font.\n",
      "  font.set_text(s, 0, flags=flags)\n",
      "C:\\ProgramData\\Anaconda3\\lib\\site-packages\\matplotlib\\backends\\backend_agg.py:180: RuntimeWarning: Glyph 53944 missing from current font.\n",
      "  font.set_text(s, 0, flags=flags)\n"
     ]
    },
    {
     "data": {
      "image/png": "[encoded data removed]",
      "text/plain": [
       "<Figure size 432x288 with 1 Axes>"
      ]
     },
     "metadata": {
      "needs_background": "light"
     },
     "output_type": "display_data"
    }
   ],
   "source": [
    "import matplotlib.pyplot as plt\n",
    "fig, ax = plt.subplots()\n",
    "tag100_count.iloc[:15,:].set_index(\"tag\").plot.bar(ax=ax)"
   ]
  },
  {
   "cell_type": "code",
   "execution_count": 38,
   "metadata": {},
   "outputs": [],
   "source": [
    "kr100['tag_count'] = kr100['tags'].apply(lambda x:x.count('|')+1)"
   ]
  },
  {
   "cell_type": "code",
   "execution_count": 39,
   "metadata": {},
   "outputs": [
    {
     "data": {
      "text/plain": [
       "Text(0, 0.5, 'views')"
      ]
     },
     "execution_count": 39,
     "metadata": {},
     "output_type": "execute_result"
    },
    {
     "data": {
      "image/png": "[encoded data removed]",
      "text/plain": [
       "<Figure size 432x288 with 1 Axes>"
      ]
     },
     "metadata": {
      "needs_background": "light"
     },
     "output_type": "display_data"
    }
   ],
   "source": [
    "import seaborn as sns\n",
    "ax = plt.subplots() \n",
    "ax = sns.regplot(x='tag_count', y='views', data=kr100) \n",
    "ax.set_title('tag_count-views') \n",
    "ax.set_xlabel('tag_count') \n",
    "ax.set_ylabel('views') "
   ]
  },
  {
   "cell_type": "markdown",
   "metadata": {},
   "source": [
    "### [2번 주제]"
   ]
  },
  {
   "cell_type": "code",
   "execution_count": 68,
   "metadata": {},
   "outputs": [
    {
     "name": "stdout",
     "output_type": "stream",
     "text": [
      "      video_id trending_date                       title channel_title  \\\n",
      "0  RxGQe4EeEpA      17.14.11          좋아 by 민서_윤종신_좋니 답가        라푸마코리아   \n",
      "1  hH7wVE8OlQ0      17.14.11            JSA 귀순 북한군 총격 부상        Edward   \n",
      "2  9V8bnWUmE9U      17.14.11  나몰라패밀리 운동화 영상 2탄 (빼빼로데이버젼)     나몰라패밀리 핫쇼   \n",
      "3  0_8py-t5R80      17.14.11  이명박 출국 현장, 놓치면 안되는 장면         미디어몽구   \n",
      "4  bk55RbxiQdI      17.14.11     김장겸은 물러갔다 MBC 노조 환호와 눈물        NocutV   \n",
      "\n",
      "   category_id              publish_time  \\\n",
      "0           22  2017-11-13T07:07:36.000Z   \n",
      "1           25  2017-11-13T10:59:16.000Z   \n",
      "2           22  2017-11-11T07:16:08.000Z   \n",
      "3           25  2017-11-12T11:19:52.000Z   \n",
      "4           25  2017-11-13T11:08:59.000Z   \n",
      "\n",
      "                                                tags   views  likes  dislikes  \\\n",
      "0                      라푸마|\"윤종신\"|\"좋니\"|\"좋아\"|\"샬레\"|\"민서\"  156130   1422        40   \n",
      "1        JSA|\"귀순\"|\"북한군\"|\"총격\"|\"부상\"|\"JSA 귀순 북한군 총격 부상\"   76533    211        28   \n",
      "2                아디다스|\"빼빼로\"|\"핫쇼\"|\"나몰라패밀리\"|\"대학로\"|\"공연\"  421409   5112       166   \n",
      "3  이명박|\"이명박 출국금지\"|\"이명박 출국현장\"|\"이명박 바레인\"|\"이명박 대통령\"|...  222850   2093       173   \n",
      "4          nocutV|\"노컷V\"|\"CBS\"|\"mbc\"|\"김장겸\"|\"해임\"|\"허일후\"   84466   1094       109   \n",
      "\n",
      "   comment_count                                  thumbnail_link  \\\n",
      "0            272  https://i.ytimg.com/vi/RxGQe4EeEpA/default.jpg   \n",
      "1            113  https://i.ytimg.com/vi/hH7wVE8OlQ0/default.jpg   \n",
      "2            459  https://i.ytimg.com/vi/9V8bnWUmE9U/default.jpg   \n",
      "3           1219  https://i.ytimg.com/vi/0_8py-t5R80/default.jpg   \n",
      "4            450  https://i.ytimg.com/vi/bk55RbxiQdI/default.jpg   \n",
      "\n",
      "   comments_disabled  ratings_disabled  video_error_or_removed  \\\n",
      "0              False             False                   False   \n",
      "1              False             False                   False   \n",
      "2              False             False                   False   \n",
      "3              False             False                   False   \n",
      "4              False             False                   False   \n",
      "\n",
      "                                         description  \n",
      "0  윤종신 '좋니'의 답가 '좋아' 최초 공개!\\n그 여자의 이야기를 지금 만나보세요....  \n",
      "1  [채널A단독]北 병사 현재 '의식불명'… 혈압 떨어지는 중 \\n[채널A단독]우리측 ...  \n",
      "2                                    퍼가실때 꼭 출처 부탁드려요  \n",
      "3                                다스는 누구겁니까 듣고 난 후 표정  \n",
      "4  김장겸 MBC 사장이 결국 해임됐다.\\n\\nMBC 대주주인 방송문화진흥회는 13일 ...  \n"
     ]
    }
   ],
   "source": [
    "import pandas as pd\n",
    "input_fd = open('KRvideos.csv',errors = 'backslashreplace',encoding='utf-8')\n",
    "KRvideos = pd.read_csv(input_fd)\n",
    "print(KRvideos.head())"
   ]
  },
  {
   "cell_type": "code",
   "execution_count": 69,
   "metadata": {},
   "outputs": [
    {
     "name": "stdout",
     "output_type": "stream",
     "text": [
      "      video_id trending_date                                      title  \\\n",
      "0  5ugKfHgsmYw      18.07.02                         陸自ヘリ、垂直に落下＝路上の車が撮影   \n",
      "1  ohObafdd34Y      18.07.02                     イッテQ お祭り男宮川×手越 巨大ブランコ②   \n",
      "2  aBr2kKAHN6M      18.07.02                      Live Views of Starman   \n",
      "3  5wNnwChvmsQ      18.07.02                 東京ディズニーリゾートの元キャストが暴露した秘密5選   \n",
      "4  B7J47qFvdsk      18.07.02  榮倉奈々、衝撃の死んだふり！映画『家に帰ると妻が必ず死んだふりをしています。』特報   \n",
      "\n",
      "          channel_title  category_id              publish_time  \\\n",
      "0            時事通信映像センター           25  2018-02-06T03:04:37.000Z   \n",
      "1  神谷えりな Kamiya Erina 2            1  2018-02-06T04:01:56.000Z   \n",
      "2                SpaceX           28  2018-02-06T21:38:22.000Z   \n",
      "3               アシタノワダイ           25  2018-02-06T06:08:49.000Z   \n",
      "4               シネマトゥデイ            1  2018-02-06T02:30:00.000Z   \n",
      "\n",
      "                                                tags    views   likes  \\\n",
      "0  事故|\"佐賀\"|\"佐賀県\"|\"ヘリコプター\"|\"ヘリ\"|\"自衛隊\"|\"墜落\"|\"落下\"|\"現...   188085     591   \n",
      "1                                             [none]    90929     442   \n",
      "2                                             [none]  6408303  165892   \n",
      "3                                            アシタノワダイ    96255    1165   \n",
      "4                                             [none]   108408    1336   \n",
      "\n",
      "   dislikes  comment_count                                  thumbnail_link  \\\n",
      "0       189              0  https://i.ytimg.com/vi/5ugKfHgsmYw/default.jpg   \n",
      "1        88            174  https://i.ytimg.com/vi/ohObafdd34Y/default.jpg   \n",
      "2      2331           3006  https://i.ytimg.com/vi/aBr2kKAHN6M/default.jpg   \n",
      "3       277            545  https://i.ytimg.com/vi/5wNnwChvmsQ/default.jpg   \n",
      "4        74            201  https://i.ytimg.com/vi/B7J47qFvdsk/default.jpg   \n",
      "\n",
      "   comments_disabled  ratings_disabled  video_error_or_removed  \\\n",
      "0               True             False                   False   \n",
      "1              False             False                   False   \n",
      "2              False             False                   False   \n",
      "3              False             False                   False   \n",
      "4              False             False                   False   \n",
      "\n",
      "                                         description  \n",
      "0  佐賀県神埼市の民家に墜落した陸上自衛隊のＡＨ６４Ｄ戦闘ヘリコプターが垂直に落下する様子を、近...  \n",
      "1                                                NaN  \n",
      "2                                                NaN  \n",
      "3  東京ディズニーリゾートの元キャストが暴露した秘密5選\\n\\nかたまりクリエイトさま\\n【検証...  \n",
      "4  家に帰ってきたサラリーマンのじゅん（安田顕）は、玄関で血を出して倒れている妻ちえ（榮倉奈々）...  \n"
     ]
    }
   ],
   "source": [
    "input_fd = open('JPvideos.csv', errors = 'backslashreplace',encoding='utf-8')\n",
    "JPvideos = pd.read_csv(input_fd)\n",
    "print(JPvideos.head())"
   ]
  },
  {
   "cell_type": "code",
   "execution_count": 70,
   "metadata": {},
   "outputs": [
    {
     "name": "stdout",
     "output_type": "stream",
     "text": [
      "14689152313\n",
      "0.7782818588776923\n",
      "5377466630\n",
      "0.11613392977580302\n"
     ]
    }
   ],
   "source": [
    "print(KRvideos['views'].sum())\n",
    "print(KRvideos['views'].sum()/51709098/365)\n",
    "print(JPvideos['views'].sum())\n",
    "print(JPvideos['views'].sum()/126860301/365)"
   ]
  },
  {
   "cell_type": "markdown",
   "metadata": {},
   "source": [
    "### [3번 주제] like 와 dislike (호감/비호감) 비율 구한 뒤, 어떤 카테고리인지 파악하기"
   ]
  },
  {
   "cell_type": "code",
   "execution_count": 81,
   "metadata": {},
   "outputs": [
    {
     "data": {
      "text/plain": [
       "'C:\\\\Users\\\\Chanmi Yoo\\\\Desktop\\\\ESAA\\\\191101 ESAA 팀'"
      ]
     },
     "execution_count": 81,
     "metadata": {},
     "output_type": "execute_result"
    }
   ],
   "source": [
    "# 패키지 불러오기\n",
    "from pandas import *\n",
    "import pandas as pd\n",
    "\n",
    "# 현재 위치 확인 \n",
    "import os \n",
    "os.getcwd() # 현재 디렉토리 위치 확인 "
   ]
  },
  {
   "cell_type": "code",
   "execution_count": 82,
   "metadata": {},
   "outputs": [],
   "source": [
    "# 데이터 불러오기 \n",
    "input_fd = open('KRvideos.csv',errors = 'backslashreplace',encoding='utf-8')\n",
    "KRvideos = pd.read_csv(input_fd)"
   ]
  },
  {
   "cell_type": "code",
   "execution_count": 83,
   "metadata": {},
   "outputs": [],
   "source": [
    "# 카데고리 설명 json 파일 불러오기 \n",
    "import json\n",
    "from pprint import pprint\n",
    "\n",
    "with open('KR_category_id.json') as data_file:    \n",
    "    data = json.load(data_file)"
   ]
  },
  {
   "cell_type": "code",
   "execution_count": 84,
   "metadata": {},
   "outputs": [
    {
     "data": {
      "text/html": [
       "<div>\n",
       "<style scoped>\n",
       "    .dataframe tbody tr th:only-of-type {\n",
       "        vertical-align: middle;\n",
       "    }\n",
       "\n",
       "    .dataframe tbody tr th {\n",
       "        vertical-align: top;\n",
       "    }\n",
       "\n",
       "    .dataframe thead th {\n",
       "        text-align: right;\n",
       "    }\n",
       "</style>\n",
       "<table border=\"1\" class=\"dataframe\">\n",
       "  <thead>\n",
       "    <tr style=\"text-align: right;\">\n",
       "      <th></th>\n",
       "      <th>category_id</th>\n",
       "      <th>category</th>\n",
       "    </tr>\n",
       "  </thead>\n",
       "  <tbody>\n",
       "    <tr>\n",
       "      <th>0</th>\n",
       "      <td>1</td>\n",
       "      <td>Film &amp; Animation</td>\n",
       "    </tr>\n",
       "    <tr>\n",
       "      <th>1</th>\n",
       "      <td>2</td>\n",
       "      <td>Autos &amp; Vehicles</td>\n",
       "    </tr>\n",
       "    <tr>\n",
       "      <th>2</th>\n",
       "      <td>10</td>\n",
       "      <td>Music</td>\n",
       "    </tr>\n",
       "    <tr>\n",
       "      <th>3</th>\n",
       "      <td>15</td>\n",
       "      <td>Pets &amp; Animals</td>\n",
       "    </tr>\n",
       "    <tr>\n",
       "      <th>4</th>\n",
       "      <td>17</td>\n",
       "      <td>Sports</td>\n",
       "    </tr>\n",
       "    <tr>\n",
       "      <th>5</th>\n",
       "      <td>18</td>\n",
       "      <td>Short Movies</td>\n",
       "    </tr>\n",
       "    <tr>\n",
       "      <th>6</th>\n",
       "      <td>19</td>\n",
       "      <td>Travel &amp; Events</td>\n",
       "    </tr>\n",
       "    <tr>\n",
       "      <th>7</th>\n",
       "      <td>20</td>\n",
       "      <td>Gaming</td>\n",
       "    </tr>\n",
       "    <tr>\n",
       "      <th>8</th>\n",
       "      <td>21</td>\n",
       "      <td>Videoblogging</td>\n",
       "    </tr>\n",
       "    <tr>\n",
       "      <th>9</th>\n",
       "      <td>22</td>\n",
       "      <td>People &amp; Blogs</td>\n",
       "    </tr>\n",
       "    <tr>\n",
       "      <th>10</th>\n",
       "      <td>23</td>\n",
       "      <td>Comedy</td>\n",
       "    </tr>\n",
       "    <tr>\n",
       "      <th>11</th>\n",
       "      <td>24</td>\n",
       "      <td>Entertainment</td>\n",
       "    </tr>\n",
       "    <tr>\n",
       "      <th>12</th>\n",
       "      <td>25</td>\n",
       "      <td>News &amp; Politics</td>\n",
       "    </tr>\n",
       "    <tr>\n",
       "      <th>13</th>\n",
       "      <td>26</td>\n",
       "      <td>Howto &amp; Style</td>\n",
       "    </tr>\n",
       "    <tr>\n",
       "      <th>14</th>\n",
       "      <td>27</td>\n",
       "      <td>Education</td>\n",
       "    </tr>\n",
       "    <tr>\n",
       "      <th>15</th>\n",
       "      <td>28</td>\n",
       "      <td>Science &amp; Technology</td>\n",
       "    </tr>\n",
       "    <tr>\n",
       "      <th>16</th>\n",
       "      <td>30</td>\n",
       "      <td>Movies</td>\n",
       "    </tr>\n",
       "    <tr>\n",
       "      <th>17</th>\n",
       "      <td>31</td>\n",
       "      <td>Anime/Animation</td>\n",
       "    </tr>\n",
       "    <tr>\n",
       "      <th>18</th>\n",
       "      <td>32</td>\n",
       "      <td>Action/Adventure</td>\n",
       "    </tr>\n",
       "    <tr>\n",
       "      <th>19</th>\n",
       "      <td>33</td>\n",
       "      <td>Classics</td>\n",
       "    </tr>\n",
       "    <tr>\n",
       "      <th>20</th>\n",
       "      <td>34</td>\n",
       "      <td>Comedy</td>\n",
       "    </tr>\n",
       "    <tr>\n",
       "      <th>21</th>\n",
       "      <td>35</td>\n",
       "      <td>Documentary</td>\n",
       "    </tr>\n",
       "    <tr>\n",
       "      <th>22</th>\n",
       "      <td>36</td>\n",
       "      <td>Drama</td>\n",
       "    </tr>\n",
       "    <tr>\n",
       "      <th>23</th>\n",
       "      <td>37</td>\n",
       "      <td>Family</td>\n",
       "    </tr>\n",
       "    <tr>\n",
       "      <th>24</th>\n",
       "      <td>38</td>\n",
       "      <td>Foreign</td>\n",
       "    </tr>\n",
       "    <tr>\n",
       "      <th>25</th>\n",
       "      <td>39</td>\n",
       "      <td>Horror</td>\n",
       "    </tr>\n",
       "    <tr>\n",
       "      <th>26</th>\n",
       "      <td>40</td>\n",
       "      <td>Sci-Fi/Fantasy</td>\n",
       "    </tr>\n",
       "    <tr>\n",
       "      <th>27</th>\n",
       "      <td>41</td>\n",
       "      <td>Thriller</td>\n",
       "    </tr>\n",
       "    <tr>\n",
       "      <th>28</th>\n",
       "      <td>42</td>\n",
       "      <td>Shorts</td>\n",
       "    </tr>\n",
       "    <tr>\n",
       "      <th>29</th>\n",
       "      <td>43</td>\n",
       "      <td>Shows</td>\n",
       "    </tr>\n",
       "    <tr>\n",
       "      <th>30</th>\n",
       "      <td>44</td>\n",
       "      <td>Trailers</td>\n",
       "    </tr>\n",
       "  </tbody>\n",
       "</table>\n",
       "</div>"
      ],
      "text/plain": [
       "   category_id              category\n",
       "0            1      Film & Animation\n",
       "1            2      Autos & Vehicles\n",
       "2           10                 Music\n",
       "3           15        Pets & Animals\n",
       "4           17                Sports\n",
       "5           18          Short Movies\n",
       "6           19       Travel & Events\n",
       "7           20                Gaming\n",
       "8           21         Videoblogging\n",
       "9           22        People & Blogs\n",
       "10          23                Comedy\n",
       "11          24         Entertainment\n",
       "12          25       News & Politics\n",
       "13          26         Howto & Style\n",
       "14          27             Education\n",
       "15          28  Science & Technology\n",
       "16          30                Movies\n",
       "17          31       Anime/Animation\n",
       "18          32      Action/Adventure\n",
       "19          33              Classics\n",
       "20          34                Comedy\n",
       "21          35           Documentary\n",
       "22          36                 Drama\n",
       "23          37                Family\n",
       "24          38               Foreign\n",
       "25          39                Horror\n",
       "26          40        Sci-Fi/Fantasy\n",
       "27          41              Thriller\n",
       "28          42                Shorts\n",
       "29          43                 Shows\n",
       "30          44              Trailers"
      ]
     },
     "execution_count": 84,
     "metadata": {},
     "output_type": "execute_result"
    }
   ],
   "source": [
    "# 카테고리 설명 데이터프레임 만들기 \n",
    "ID = []\n",
    "title = []\n",
    "\n",
    "for i in range(len(data[\"items\"])):\n",
    "    ID.append(data[\"items\"][i][\"id\"])\n",
    "    title.append(data[\"items\"][i][\"snippet\"][\"title\"])\n",
    "\n",
    "category_desc = pd.DataFrame({'category_id':ID, \n",
    "                             'category': title})\n",
    "category_desc"
   ]
  },
  {
   "cell_type": "code",
   "execution_count": 85,
   "metadata": {},
   "outputs": [],
   "source": [
    "# 문자열 변환 \n",
    "category_desc[\"category_id\"] = category_desc[\"category_id\"].apply(str)\n",
    "KRvideos[\"category_id\"] = KRvideos[\"category_id\"].apply(str)\n",
    "\n",
    "# 기존 KR 데이터프레임에 카테고리 설명 데이터프레임을 합친 뒤, KR에 저장하기 \n",
    "KR = pd.merge(KRvideos, category_desc, on=\"category_id\", how='left')"
   ]
  },
  {
   "cell_type": "markdown",
   "metadata": {},
   "source": [
    "#### [좋아요(likes) 상위 25%의 카테고리 분포]"
   ]
  },
  {
   "cell_type": "code",
   "execution_count": 86,
   "metadata": {},
   "outputs": [
    {
     "data": {
      "text/html": [
       "<div>\n",
       "<style scoped>\n",
       "    .dataframe tbody tr th:only-of-type {\n",
       "        vertical-align: middle;\n",
       "    }\n",
       "\n",
       "    .dataframe tbody tr th {\n",
       "        vertical-align: top;\n",
       "    }\n",
       "\n",
       "    .dataframe thead th {\n",
       "        text-align: right;\n",
       "    }\n",
       "</style>\n",
       "<table border=\"1\" class=\"dataframe\">\n",
       "  <thead>\n",
       "    <tr style=\"text-align: right;\">\n",
       "      <th></th>\n",
       "      <th>video_id</th>\n",
       "      <th>trending_date</th>\n",
       "      <th>title</th>\n",
       "      <th>channel_title</th>\n",
       "      <th>category_id</th>\n",
       "      <th>publish_time</th>\n",
       "      <th>tags</th>\n",
       "      <th>views</th>\n",
       "      <th>likes</th>\n",
       "      <th>dislikes</th>\n",
       "      <th>comment_count</th>\n",
       "      <th>thumbnail_link</th>\n",
       "      <th>comments_disabled</th>\n",
       "      <th>ratings_disabled</th>\n",
       "      <th>video_error_or_removed</th>\n",
       "      <th>description</th>\n",
       "      <th>category</th>\n",
       "    </tr>\n",
       "  </thead>\n",
       "  <tbody>\n",
       "    <tr>\n",
       "      <th>30583</th>\n",
       "      <td>7C2z4GqqS5E</td>\n",
       "      <td>18.23.05</td>\n",
       "      <td>BTS (방탄소년단) 'FAKE LOVE' Official MV</td>\n",
       "      <td>ibighit</td>\n",
       "      <td>10</td>\n",
       "      <td>2018-05-18T09:00:02.000Z</td>\n",
       "      <td>BIGHIT|\"빅히트\"|\"방탄소년단\"|\"BTS\"|\"BANGTAN\"|\"방탄\"|\"FAK...</td>\n",
       "      <td>80738011</td>\n",
       "      <td>5053338</td>\n",
       "      <td>165854</td>\n",
       "      <td>1114800</td>\n",
       "      <td>https://i.ytimg.com/vi/7C2z4GqqS5E/default.jpg</td>\n",
       "      <td>False</td>\n",
       "      <td>False</td>\n",
       "      <td>False</td>\n",
       "      <td>BTS (방탄소년단) 'FAKE LOVE' Official MVDirector : ...</td>\n",
       "      <td>Music</td>\n",
       "    </tr>\n",
       "    <tr>\n",
       "      <th>30352</th>\n",
       "      <td>7C2z4GqqS5E</td>\n",
       "      <td>18.22.05</td>\n",
       "      <td>BTS (방탄소년단) 'FAKE LOVE' Official MV</td>\n",
       "      <td>ibighit</td>\n",
       "      <td>10</td>\n",
       "      <td>2018-05-18T09:00:02.000Z</td>\n",
       "      <td>BIGHIT|\"빅히트\"|\"방탄소년단\"|\"BTS\"|\"BANGTAN\"|\"방탄\"|\"FAK...</td>\n",
       "      <td>73463137</td>\n",
       "      <td>4924056</td>\n",
       "      <td>156026</td>\n",
       "      <td>1084435</td>\n",
       "      <td>https://i.ytimg.com/vi/7C2z4GqqS5E/default.jpg</td>\n",
       "      <td>False</td>\n",
       "      <td>False</td>\n",
       "      <td>False</td>\n",
       "      <td>BTS (방탄소년단) 'FAKE LOVE' Official MVDirector : ...</td>\n",
       "      <td>Music</td>\n",
       "    </tr>\n",
       "    <tr>\n",
       "      <th>30486</th>\n",
       "      <td>7C2z4GqqS5E</td>\n",
       "      <td>18.22.05</td>\n",
       "      <td>BTS (방탄소년단) 'FAKE LOVE' Official MV</td>\n",
       "      <td>ibighit</td>\n",
       "      <td>10</td>\n",
       "      <td>2018-05-18T09:00:02.000Z</td>\n",
       "      <td>BIGHIT|\"빅히트\"|\"방탄소년단\"|\"BTS\"|\"BANGTAN\"|\"방탄\"|\"FAK...</td>\n",
       "      <td>73463137</td>\n",
       "      <td>4924056</td>\n",
       "      <td>156026</td>\n",
       "      <td>1084435</td>\n",
       "      <td>https://i.ytimg.com/vi/7C2z4GqqS5E/default.jpg</td>\n",
       "      <td>False</td>\n",
       "      <td>False</td>\n",
       "      <td>False</td>\n",
       "      <td>BTS (방탄소년단) 'FAKE LOVE' Official MVDirector : ...</td>\n",
       "      <td>Music</td>\n",
       "    </tr>\n",
       "  </tbody>\n",
       "</table>\n",
       "</div>"
      ],
      "text/plain": [
       "          video_id trending_date                                title  \\\n",
       "30583  7C2z4GqqS5E      18.23.05  BTS (방탄소년단) 'FAKE LOVE' Official MV   \n",
       "30352  7C2z4GqqS5E      18.22.05  BTS (방탄소년단) 'FAKE LOVE' Official MV   \n",
       "30486  7C2z4GqqS5E      18.22.05  BTS (방탄소년단) 'FAKE LOVE' Official MV   \n",
       "\n",
       "      channel_title category_id              publish_time  \\\n",
       "30583       ibighit          10  2018-05-18T09:00:02.000Z   \n",
       "30352       ibighit          10  2018-05-18T09:00:02.000Z   \n",
       "30486       ibighit          10  2018-05-18T09:00:02.000Z   \n",
       "\n",
       "                                                    tags     views    likes  \\\n",
       "30583  BIGHIT|\"빅히트\"|\"방탄소년단\"|\"BTS\"|\"BANGTAN\"|\"방탄\"|\"FAK...  80738011  5053338   \n",
       "30352  BIGHIT|\"빅히트\"|\"방탄소년단\"|\"BTS\"|\"BANGTAN\"|\"방탄\"|\"FAK...  73463137  4924056   \n",
       "30486  BIGHIT|\"빅히트\"|\"방탄소년단\"|\"BTS\"|\"BANGTAN\"|\"방탄\"|\"FAK...  73463137  4924056   \n",
       "\n",
       "       dislikes  comment_count  \\\n",
       "30583    165854        1114800   \n",
       "30352    156026        1084435   \n",
       "30486    156026        1084435   \n",
       "\n",
       "                                       thumbnail_link  comments_disabled  \\\n",
       "30583  https://i.ytimg.com/vi/7C2z4GqqS5E/default.jpg              False   \n",
       "30352  https://i.ytimg.com/vi/7C2z4GqqS5E/default.jpg              False   \n",
       "30486  https://i.ytimg.com/vi/7C2z4GqqS5E/default.jpg              False   \n",
       "\n",
       "       ratings_disabled  video_error_or_removed  \\\n",
       "30583             False                   False   \n",
       "30352             False                   False   \n",
       "30486             False                   False   \n",
       "\n",
       "                                             description category  \n",
       "30583  BTS (방탄소년단) 'FAKE LOVE' Official MVDirector : ...    Music  \n",
       "30352  BTS (방탄소년단) 'FAKE LOVE' Official MVDirector : ...    Music  \n",
       "30486  BTS (방탄소년단) 'FAKE LOVE' Official MVDirector : ...    Music  "
      ]
     },
     "execution_count": 86,
     "metadata": {},
     "output_type": "execute_result"
    }
   ],
   "source": [
    "# 좋아요 내림차순으로 정렬 후 KR_likes에 저장 \n",
    "KR_likes = KR.sort_values(by=['likes'], ascending=False)\n",
    "\n",
    "# 좋아요 상위 25% 추출 후 KR_25에 저장 \n",
    "KR_likes25 = KR_likes.iloc[1:round(len(KR_likes)*0.25)]"
   ]
  },
  {
   "cell_type": "code",
   "execution_count": 118,
   "metadata": {},
   "outputs": [],
   "source": [
    "# 좋아요 상위 25%의 카테고리 분포 살펴보기 "
   ]
  },
  {
   "cell_type": "code",
   "execution_count": 133,
   "metadata": {},
   "outputs": [
    {
     "data": {
      "text/plain": [
       "Text(0.5, 1.0, 'Histogram of Top 25% Likes Videoes Catergories')"
      ]
     },
     "execution_count": 133,
     "metadata": {},
     "output_type": "execute_result"
    },
    {
     "data": {
      "image/png": "[encoded data removed]",
      "text/plain": [
       "<Figure size 432x288 with 1 Axes>"
      ]
     },
     "metadata": {
      "needs_background": "light"
     },
     "output_type": "display_data"
    }
   ],
   "source": [
    "import seaborn as sns\n",
    "\n",
    "bar1 = plt.subplots()\n",
    "bar1 = sns.countplot('category', data=KR_likes25)\n",
    "bar1.set_xticklabels(bar1.get_xticklabels(), rotation=40, ha='right')\n",
    "bar1.set_title('Histogram of Top 25% Likes Videoes Catergories')"
   ]
  },
  {
   "cell_type": "code",
   "execution_count": 134,
   "metadata": {},
   "outputs": [
    {
     "data": {
      "text/plain": [
       "Text(0.5, 1.0, 'Histogram of Catergories')"
      ]
     },
     "execution_count": 134,
     "metadata": {},
     "output_type": "execute_result"
    },
    {
     "data": {
      "image/png": "[encoded data removed]",
      "text/plain": [
       "<Figure size 432x288 with 1 Axes>"
      ]
     },
     "metadata": {
      "needs_background": "light"
     },
     "output_type": "display_data"
    }
   ],
   "source": [
    "bar2 = sns.countplot('category', data=KR_likes)\n",
    "bar2.set_xticklabels(bar2.get_xticklabels(), rotation=40, ha='right')\n",
    "bar2.set_title('Histogram of Catergories')"
   ]
  },
  {
   "cell_type": "markdown",
   "metadata": {},
   "source": [
    "좋아요 수 상위 25%에 속하는 비디오를 살펴본 결과, Entertainment가 두드러지게 많았고, People&blogs, Comedy, News&Politics가 비슷한 수준으로 그 뒤를 이었다. 한편 전체 비디오를 대상으로 카테고리의 수를 살펴보면 Entertainment, People&blogs, News&Politics의 비디오 수가 많다는 것을 알 수 있다. 반면 Comdey는 업로드된 비디오 수에 비해 좋아요를 많이 받은 비디오가 많았다. "
   ]
  },
  {
   "cell_type": "markdown",
   "metadata": {},
   "source": [
    "#### [싫어요(dislikes) 상위 25%의 카테고리 분포]"
   ]
  },
  {
   "cell_type": "code",
   "execution_count": 125,
   "metadata": {},
   "outputs": [],
   "source": [
    "# 같은 방식으로 싫어요 상위 25%의 카테고리 분포를 살펴보자\n",
    "\n",
    "KR_dislikes = KR.sort_values(by=['dislikes'], axis=0, ascending=False)\n",
    "KR_dislikes25 = KR_dislikes.iloc[1:round(len(KR_dislikes)*0.25)]"
   ]
  },
  {
   "cell_type": "code",
   "execution_count": 131,
   "metadata": {},
   "outputs": [
    {
     "data": {
      "text/plain": [
       "Text(0.5, 1.0, 'Histogram of Top 25% Dislikes Videoes Catergory')"
      ]
     },
     "execution_count": 131,
     "metadata": {},
     "output_type": "execute_result"
    },
    {
     "data": {
      "image/png": "[encoded data removed]",
      "text/plain": [
       "<Figure size 432x288 with 1 Axes>"
      ]
     },
     "metadata": {
      "needs_background": "light"
     },
     "output_type": "display_data"
    }
   ],
   "source": [
    "bar3 = plt.subplots()\n",
    "bar3 = sns.countplot('category', data=KR_dislikes25)\n",
    "bar3.set_xticklabels(bar3.get_xticklabels(), rotation=40, ha='right')\n",
    "bar3.set_title('Histogram of Top 25% Dislikes Videoes Catergory')"
   ]
  },
  {
   "cell_type": "code",
   "execution_count": 135,
   "metadata": {},
   "outputs": [
    {
     "data": {
      "text/plain": [
       "Text(0.5, 1.0, 'Histogram of Catergory')"
      ]
     },
     "execution_count": 135,
     "metadata": {},
     "output_type": "execute_result"
    },
    {
     "data": {
      "image/png": "[encoded data removed]",
      "text/plain": [
       "<Figure size 432x288 with 1 Axes>"
      ]
     },
     "metadata": {
      "needs_background": "light"
     },
     "output_type": "display_data"
    }
   ],
   "source": [
    "bar4 = sns.countplot('category', data=KR_dislikes)\n",
    "bar4.set_xticklabels(bar4.get_xticklabels(), rotation=40, ha='right')\n",
    "bar4.set_title('Histogram of Catergory')"
   ]
  },
  {
   "cell_type": "markdown",
   "metadata": {},
   "source": [
    "싫어요 상위 25% 비디오의 카데고리는 Entertainment, News&Politics, People&Blogs였다. 이 카테고리는 업로드 자체가 많은 카테고리이다.  "
   ]
  },
  {
   "cell_type": "code",
   "execution_count": 160,
   "metadata": {},
   "outputs": [
    {
     "data": {
      "text/plain": [
       "(11339, 17)"
      ]
     },
     "execution_count": 160,
     "metadata": {},
     "output_type": "execute_result"
    }
   ],
   "source": [
    "# 중복 없이 상위 25% 좋아요와 싫어요 데이터 합치기 \n",
    "total_25 = pd.concat([KR_likes25, KR_dislikes25]).drop_duplicates()\n",
    "total_25.shape"
   ]
  },
  {
   "cell_type": "code",
   "execution_count": 186,
   "metadata": {},
   "outputs": [
    {
     "data": {
      "text/plain": [
       "Text(0.5, 0.98, 'Joint Scatterplot of # of Top 25% Likes and Top 25% Dislikes')"
      ]
     },
     "execution_count": 186,
     "metadata": {},
     "output_type": "execute_result"
    },
    {
     "data": {
      "image/png": "[encoded data removed]",
      "text/plain": [
       "<Figure size 432x288 with 1 Axes>"
      ]
     },
     "metadata": {
      "needs_background": "light"
     },
     "output_type": "display_data"
    }
   ],
   "source": [
    "# 상위 25% 좋아요 혹은 싫어요의 Likes와 DIslikes의 관계 \n",
    "sns.scatterplot(x='likes', y='dislikes', data=total_25,\n",
    "               hue='category',  s=20)\n",
    "plt.suptitle('Joint Scatterplot of # of Top 25% Likes and Top 25% Dislikes')"
   ]
  },
  {
   "cell_type": "markdown",
   "metadata": {},
   "source": [
    "추가적으로 살펴보면 좋아요는 매우 많지만 싫어요는 적은 긍정반응 비디오, 좋아요도 싫어요도 받은 혼합반응 비디오 outlier가 있었다. outlier들의 카테고리는 entertainment, music이었다."
   ]
  },
  {
   "cell_type": "markdown",
   "metadata": {},
   "source": [
    "위의 그래프에서 나타난 outlier(likes는 4000000 이상, dislikes는 800000 이상)를 제거한 뒤 joint plot을 그려보겠다. "
   ]
  },
  {
   "cell_type": "code",
   "execution_count": 198,
   "metadata": {},
   "outputs": [
    {
     "data": {
      "text/plain": [
       "<matplotlib.legend.Legend at 0x1b2fb404278>"
      ]
     },
     "execution_count": 198,
     "metadata": {},
     "output_type": "execute_result"
    },
    {
     "data": {
      "image/png": "[encoded data removed]",
      "text/plain": [
       "<Figure size 432x288 with 1 Axes>"
      ]
     },
     "metadata": {
      "needs_background": "light"
     },
     "output_type": "display_data"
    }
   ],
   "source": [
    "# Outlier 제거시 scatter plot\n",
    "total_25_out = total_25[(total_25['likes']<4000000) & (total_25['dislikes']<800000)]\n",
    "\n",
    "sns.scatterplot(x='likes', y='dislikes', data=total_25_out, \n",
    "                hue='category',  s=20)\n",
    "plt.suptitle('Joint Scatterplot Without Ouliers')\n",
    "plt.legend(loc='best')"
   ]
  },
  {
   "cell_type": "markdown",
   "metadata": {},
   "source": [
    "music, shows, entertainment 카테고리가 극도로 좋아요 수나 싫어요 수가 많았다."
   ]
  },
  {
   "cell_type": "markdown",
   "metadata": {},
   "source": [
    "#### [결론] 한국에서 좋아요 많이 받고 싶다면 코미디 영상 올리는 것이 좋습니다."
   ]
  },
  {
   "cell_type": "markdown",
   "metadata": {},
   "source": [
    "### [4번 주제]"
   ]
  },
  {
   "cell_type": "markdown",
   "metadata": {},
   "source": [
    "나라별 하루에 얼마나 많이 유튜브를 보는지 한국과 일본의 한 사람당 하루 평균 유튜브 시청 횟수를 살펴본 결과, 한국이 0.78회, 일본이 0.12회로 한국이 훨씬 높은 것으로 나타났다. 일본의 인구 수가 많은 점을 고려해, 하루 평균 전국의 유튜브 스트리밍 횟수를 비교해보아도, 한국이 146.9억회, 일본이 53.8억회로, 한국이 약 3배 가량 스트리밍 수가 많음을 알 수 있다."
   ]
  },
  {
   "cell_type": "code",
   "execution_count": 71,
   "metadata": {},
   "outputs": [],
   "source": [
    "%matplotlib inline \n",
    "import matplotlib.pyplot as plt\n",
    "import seaborn as sns"
   ]
  },
  {
   "cell_type": "markdown",
   "metadata": {},
   "source": [
    "1. 댓글수 100위까지 자르고, 태그 수 비교"
   ]
  },
  {
   "cell_type": "code",
   "execution_count": 72,
   "metadata": {},
   "outputs": [],
   "source": [
    "kr_sort = KRvideos.sort_values('comment_count', ascending=False)\n",
    "kr_drop = kr_sort.drop_duplicates('video_id')\n",
    "kr100 = kr_drop.iloc[:100,:]"
   ]
  },
  {
   "cell_type": "markdown",
   "metadata": {},
   "source": [
    "중복 제거"
   ]
  },
  {
   "cell_type": "code",
   "execution_count": 73,
   "metadata": {},
   "outputs": [
    {
     "data": {
      "text/html": [
       "<div>\n",
       "<style scoped>\n",
       "    .dataframe tbody tr th:only-of-type {\n",
       "        vertical-align: middle;\n",
       "    }\n",
       "\n",
       "    .dataframe tbody tr th {\n",
       "        vertical-align: top;\n",
       "    }\n",
       "\n",
       "    .dataframe thead th {\n",
       "        text-align: right;\n",
       "    }\n",
       "</style>\n",
       "<table border=\"1\" class=\"dataframe\">\n",
       "  <thead>\n",
       "    <tr style=\"text-align: right;\">\n",
       "      <th></th>\n",
       "      <th>video_id</th>\n",
       "      <th>trending_date</th>\n",
       "      <th>title</th>\n",
       "      <th>channel_title</th>\n",
       "      <th>category_id</th>\n",
       "      <th>publish_time</th>\n",
       "      <th>tags</th>\n",
       "      <th>views</th>\n",
       "      <th>likes</th>\n",
       "      <th>dislikes</th>\n",
       "      <th>comment_count</th>\n",
       "      <th>thumbnail_link</th>\n",
       "      <th>comments_disabled</th>\n",
       "      <th>ratings_disabled</th>\n",
       "      <th>video_error_or_removed</th>\n",
       "      <th>description</th>\n",
       "    </tr>\n",
       "  </thead>\n",
       "  <tbody>\n",
       "    <tr>\n",
       "      <th>30844</th>\n",
       "      <td>7C2z4GqqS5E</td>\n",
       "      <td>18.24.05</td>\n",
       "      <td>BTS (방탄소년단) 'FAKE LOVE' Official MV</td>\n",
       "      <td>ibighit</td>\n",
       "      <td>10</td>\n",
       "      <td>2018-05-18T09:00:02.000Z</td>\n",
       "      <td>BIGHIT|\"빅히트\"|\"방탄소년단\"|\"BTS\"|\"BANGTAN\"|\"방탄\"|\"FAK...</td>\n",
       "      <td>87430865</td>\n",
       "      <td>5150839</td>\n",
       "      <td>172570</td>\n",
       "      <td>1142274</td>\n",
       "      <td>https://i.ytimg.com/vi/7C2z4GqqS5E/default.jpg</td>\n",
       "      <td>False</td>\n",
       "      <td>False</td>\n",
       "      <td>False</td>\n",
       "      <td>BTS (방탄소년단) 'FAKE LOVE' Official MVDirector : ...</td>\n",
       "    </tr>\n",
       "    <tr>\n",
       "      <th>4453</th>\n",
       "      <td>FlsCjmMhFmw</td>\n",
       "      <td>17.09.12</td>\n",
       "      <td>YouTube Rewind: The Shape of 2017 | #YouTubeRe...</td>\n",
       "      <td>YouTube Spotlight</td>\n",
       "      <td>24</td>\n",
       "      <td>2017-12-06T17:58:51.000Z</td>\n",
       "      <td>Rewind|\"Rewind 2017\"|\"youtube rewind 2017\"|\"#Y...</td>\n",
       "      <td>75969469</td>\n",
       "      <td>2251837</td>\n",
       "      <td>1127817</td>\n",
       "      <td>827771</td>\n",
       "      <td>https://i.ytimg.com/vi/FlsCjmMhFmw/default.jpg</td>\n",
       "      <td>False</td>\n",
       "      <td>False</td>\n",
       "      <td>False</td>\n",
       "      <td>YouTube Rewind 2017. Celebrating the videos, p...</td>\n",
       "    </tr>\n",
       "    <tr>\n",
       "      <th>2788</th>\n",
       "      <td>kTlv5_Bs8aw</td>\n",
       "      <td>17.29.11</td>\n",
       "      <td>BTS (방탄소년단) 'MIC Drop (Steve Aoki Remix)' Offi...</td>\n",
       "      <td>ibighit</td>\n",
       "      <td>10</td>\n",
       "      <td>2017-11-24T09:00:02.000Z</td>\n",
       "      <td>BIGHIT|\"빅히트\"|\"방탄소년단\"|\"BTS\"|\"BANGTAN\"|\"방탄\"</td>\n",
       "      <td>30583293</td>\n",
       "      <td>2611254</td>\n",
       "      <td>43899</td>\n",
       "      <td>529881</td>\n",
       "      <td>https://i.ytimg.com/vi/kTlv5_Bs8aw/default.jpg</td>\n",
       "      <td>False</td>\n",
       "      <td>False</td>\n",
       "      <td>False</td>\n",
       "      <td>BTS (방탄소년단) 'MIC Drop (Steve Aoki Remix)' Offi...</td>\n",
       "    </tr>\n",
       "    <tr>\n",
       "      <th>28803</th>\n",
       "      <td>32sYGCOYJUM</td>\n",
       "      <td>18.13.05</td>\n",
       "      <td>CHẠY NGAY ĐI | RUN NOW | SƠN TÙNG M-TP | Offic...</td>\n",
       "      <td>Sơn Tùng M-TP Official</td>\n",
       "      <td>10</td>\n",
       "      <td>2018-05-11T17:00:47.000Z</td>\n",
       "      <td>chạy ngay đi mv|\"chạy ngay đi\"|\"chay ngay di m...</td>\n",
       "      <td>27470728</td>\n",
       "      <td>753626</td>\n",
       "      <td>118983</td>\n",
       "      <td>401470</td>\n",
       "      <td>https://i.ytimg.com/vi/32sYGCOYJUM/default.jpg</td>\n",
       "      <td>False</td>\n",
       "      <td>False</td>\n",
       "      <td>False</td>\n",
       "      <td>#ChayNgayDi #RunNow #เรียกใช้เดี๋ยวนี้ #MTPEnt...</td>\n",
       "    </tr>\n",
       "    <tr>\n",
       "      <th>17879</th>\n",
       "      <td>OK3GJ0WIQ8s</td>\n",
       "      <td>18.02.03</td>\n",
       "      <td>j-hope 'Daydream (백일몽)' MV</td>\n",
       "      <td>ibighit</td>\n",
       "      <td>10</td>\n",
       "      <td>2018-03-01T15:00:02.000Z</td>\n",
       "      <td>BIGHIT|\"빅히트\"|\"방탄소년단\"|\"BTS\"|\"BANGTAN\"|\"방탄\"</td>\n",
       "      <td>10695328</td>\n",
       "      <td>2050584</td>\n",
       "      <td>14714</td>\n",
       "      <td>387397</td>\n",
       "      <td>https://i.ytimg.com/vi/OK3GJ0WIQ8s/default.jpg</td>\n",
       "      <td>False</td>\n",
       "      <td>False</td>\n",
       "      <td>False</td>\n",
       "      <td>j-hope 'Daydream (백일몽)'\\n\\n\\nj-hope's 'Daydrea...</td>\n",
       "    </tr>\n",
       "  </tbody>\n",
       "</table>\n",
       "</div>"
      ],
      "text/plain": [
       "          video_id trending_date  \\\n",
       "30844  7C2z4GqqS5E      18.24.05   \n",
       "4453   FlsCjmMhFmw      17.09.12   \n",
       "2788   kTlv5_Bs8aw      17.29.11   \n",
       "28803  32sYGCOYJUM      18.13.05   \n",
       "17879  OK3GJ0WIQ8s      18.02.03   \n",
       "\n",
       "                                                   title  \\\n",
       "30844                BTS (방탄소년단) 'FAKE LOVE' Official MV   \n",
       "4453   YouTube Rewind: The Shape of 2017 | #YouTubeRe...   \n",
       "2788   BTS (방탄소년단) 'MIC Drop (Steve Aoki Remix)' Offi...   \n",
       "28803  CHẠY NGAY ĐI | RUN NOW | SƠN TÙNG M-TP | Offic...   \n",
       "17879                         j-hope 'Daydream (백일몽)' MV   \n",
       "\n",
       "                channel_title  category_id              publish_time  \\\n",
       "30844                 ibighit           10  2018-05-18T09:00:02.000Z   \n",
       "4453        YouTube Spotlight           24  2017-12-06T17:58:51.000Z   \n",
       "2788                  ibighit           10  2017-11-24T09:00:02.000Z   \n",
       "28803  Sơn Tùng M-TP Official           10  2018-05-11T17:00:47.000Z   \n",
       "17879                 ibighit           10  2018-03-01T15:00:02.000Z   \n",
       "\n",
       "                                                    tags     views    likes  \\\n",
       "30844  BIGHIT|\"빅히트\"|\"방탄소년단\"|\"BTS\"|\"BANGTAN\"|\"방탄\"|\"FAK...  87430865  5150839   \n",
       "4453   Rewind|\"Rewind 2017\"|\"youtube rewind 2017\"|\"#Y...  75969469  2251837   \n",
       "2788           BIGHIT|\"빅히트\"|\"방탄소년단\"|\"BTS\"|\"BANGTAN\"|\"방탄\"  30583293  2611254   \n",
       "28803  chạy ngay đi mv|\"chạy ngay đi\"|\"chay ngay di m...  27470728   753626   \n",
       "17879          BIGHIT|\"빅히트\"|\"방탄소년단\"|\"BTS\"|\"BANGTAN\"|\"방탄\"  10695328  2050584   \n",
       "\n",
       "       dislikes  comment_count  \\\n",
       "30844    172570        1142274   \n",
       "4453    1127817         827771   \n",
       "2788      43899         529881   \n",
       "28803    118983         401470   \n",
       "17879     14714         387397   \n",
       "\n",
       "                                       thumbnail_link  comments_disabled  \\\n",
       "30844  https://i.ytimg.com/vi/7C2z4GqqS5E/default.jpg              False   \n",
       "4453   https://i.ytimg.com/vi/FlsCjmMhFmw/default.jpg              False   \n",
       "2788   https://i.ytimg.com/vi/kTlv5_Bs8aw/default.jpg              False   \n",
       "28803  https://i.ytimg.com/vi/32sYGCOYJUM/default.jpg              False   \n",
       "17879  https://i.ytimg.com/vi/OK3GJ0WIQ8s/default.jpg              False   \n",
       "\n",
       "       ratings_disabled  video_error_or_removed  \\\n",
       "30844             False                   False   \n",
       "4453              False                   False   \n",
       "2788              False                   False   \n",
       "28803             False                   False   \n",
       "17879             False                   False   \n",
       "\n",
       "                                             description  \n",
       "30844  BTS (방탄소년단) 'FAKE LOVE' Official MVDirector : ...  \n",
       "4453   YouTube Rewind 2017. Celebrating the videos, p...  \n",
       "2788   BTS (방탄소년단) 'MIC Drop (Steve Aoki Remix)' Offi...  \n",
       "28803  #ChayNgayDi #RunNow #เรียกใช้เดี๋ยวนี้ #MTPEnt...  \n",
       "17879  j-hope 'Daydream (백일몽)'\\n\\n\\nj-hope's 'Daydrea...  "
      ]
     },
     "execution_count": 73,
     "metadata": {},
     "output_type": "execute_result"
    }
   ],
   "source": [
    "kr100.head()"
   ]
  },
  {
   "cell_type": "code",
   "execution_count": 74,
   "metadata": {},
   "outputs": [
    {
     "name": "stderr",
     "output_type": "stream",
     "text": [
      "C:\\ProgramData\\Anaconda3\\lib\\site-packages\\ipykernel_launcher.py:1: SettingWithCopyWarning: \n",
      "A value is trying to be set on a copy of a slice from a DataFrame.\n",
      "Try using .loc[row_indexer,col_indexer] = value instead\n",
      "\n",
      "See the caveats in the documentation: http://pandas.pydata.org/pandas-docs/stable/indexing.html#indexing-view-versus-copy\n",
      "  \"\"\"Entry point for launching an IPython kernel.\n"
     ]
    },
    {
     "data": {
      "text/plain": [
       "[<matplotlib.lines.Line2D at 0x1b2ee517c18>]"
      ]
     },
     "execution_count": 74,
     "metadata": {},
     "output_type": "execute_result"
    },
    {
     "data": {
      "image/png": "[encoded data removed]",
      "text/plain": [
       "<Figure size 432x288 with 1 Axes>"
      ]
     },
     "metadata": {
      "needs_background": "light"
     },
     "output_type": "display_data"
    }
   ],
   "source": [
    "kr100['tag_count'] = kr100['tags'].apply(lambda x:x.count('|')+1)\n",
    "kr100[['title','tags','views','comment_count','tag_count']]\n",
    "plt.plot(kr100['views'], kr100['tag_count'], 'o')\n"
   ]
  },
  {
   "cell_type": "markdown",
   "metadata": {},
   "source": [
    "댓글수 100위까지의 태그들과 태그 수를 살펴보면 어떠한 상관관계가 보이지는 않는다."
   ]
  },
  {
   "cell_type": "code",
   "execution_count": 75,
   "metadata": {},
   "outputs": [
    {
     "data": {
      "text/plain": [
       "[<matplotlib.lines.Line2D at 0x1b2ec1dd5f8>]"
      ]
     },
     "execution_count": 75,
     "metadata": {},
     "output_type": "execute_result"
    },
    {
     "data": {
      "image/png": "[encoded data removed]",
      "text/plain": [
       "<Figure size 432x288 with 1 Axes>"
      ]
     },
     "metadata": {
      "needs_background": "light"
     },
     "output_type": "display_data"
    }
   ],
   "source": [
    "KRvideos['tag_count'] = KRvideos['tags'].apply(lambda x:x.count('|')+1)\n",
    "plt.plot(KRvideos['views'], KRvideos['tag_count'], 'o')"
   ]
  },
  {
   "cell_type": "markdown",
   "metadata": {},
   "source": [
    "전체 데이터를 활용해보면 오히려 반비례의 경향을 볼 수 있지만, 이는 조회수 낮은 영상의 수가 훨씬 많기 때문으로 보인다. 즉, 태그 수는 딱히 의미가 없다."
   ]
  },
  {
   "cell_type": "code",
   "execution_count": 76,
   "metadata": {},
   "outputs": [
    {
     "name": "stdout",
     "output_type": "stream",
     "text": [
      "ranking_group\n",
      "0    41799010.5\n",
      "1    25196789.6\n",
      "2    21901024.2\n",
      "3     7110687.7\n",
      "4     8003506.4\n",
      "5    11696713.8\n",
      "6     8129913.3\n",
      "7     6978826.2\n",
      "8     7952042.3\n",
      "9     5623515.6\n",
      "Name: views, dtype: float64\n"
     ]
    },
    {
     "name": "stderr",
     "output_type": "stream",
     "text": [
      "C:\\ProgramData\\Anaconda3\\lib\\site-packages\\ipykernel_launcher.py:1: SettingWithCopyWarning: \n",
      "A value is trying to be set on a copy of a slice from a DataFrame.\n",
      "Try using .loc[row_indexer,col_indexer] = value instead\n",
      "\n",
      "See the caveats in the documentation: http://pandas.pydata.org/pandas-docs/stable/indexing.html#indexing-view-versus-copy\n",
      "  \"\"\"Entry point for launching an IPython kernel.\n"
     ]
    }
   ],
   "source": [
    "kr100['ranking_group']=sorted(list(range(0,10))*10)\n",
    "print(kr100.groupby('ranking_group').views.mean())"
   ]
  },
  {
   "cell_type": "code",
   "execution_count": 77,
   "metadata": {},
   "outputs": [
    {
     "data": {
      "text/plain": [
       "(15876, 16)"
      ]
     },
     "execution_count": 77,
     "metadata": {},
     "output_type": "execute_result"
    }
   ],
   "source": [
    "kr_drop.shape"
   ]
  },
  {
   "cell_type": "code",
   "execution_count": 78,
   "metadata": {},
   "outputs": [
    {
     "name": "stderr",
     "output_type": "stream",
     "text": [
      "C:\\ProgramData\\Anaconda3\\lib\\site-packages\\ipykernel_launcher.py:1: SettingWithCopyWarning: \n",
      "A value is trying to be set on a copy of a slice from a DataFrame.\n",
      "Try using .loc[row_indexer,col_indexer] = value instead\n",
      "\n",
      "See the caveats in the documentation: http://pandas.pydata.org/pandas-docs/stable/indexing.html#indexing-view-versus-copy\n",
      "  \"\"\"Entry point for launching an IPython kernel.\n"
     ]
    },
    {
     "ename": "KeyError",
     "evalue": "'ranking_group'",
     "output_type": "error",
     "traceback": [
      "\u001b[1;31m---------------------------------------------------------------------------\u001b[0m",
      "\u001b[1;31mKeyError\u001b[0m                                  Traceback (most recent call last)",
      "\u001b[1;32m<ipython-input-78-9f6983de0455>\u001b[0m in \u001b[0;36m<module>\u001b[1;34m\u001b[0m\n\u001b[0;32m      1\u001b[0m \u001b[0mkr_drop\u001b[0m\u001b[1;33m[\u001b[0m\u001b[1;34m'ranking_group'\u001b[0m\u001b[1;33m]\u001b[0m\u001b[1;33m=\u001b[0m\u001b[0msorted\u001b[0m\u001b[1;33m(\u001b[0m\u001b[0mlist\u001b[0m\u001b[1;33m(\u001b[0m\u001b[0mrange\u001b[0m\u001b[1;33m(\u001b[0m\u001b[1;36m0\u001b[0m\u001b[1;33m,\u001b[0m\u001b[1;36m6\u001b[0m\u001b[1;33m)\u001b[0m\u001b[1;33m)\u001b[0m\u001b[1;33m*\u001b[0m\u001b[1;36m2646\u001b[0m\u001b[1;33m)\u001b[0m\u001b[1;33m\u001b[0m\u001b[1;33m\u001b[0m\u001b[0m\n\u001b[1;32m----> 2\u001b[1;33m \u001b[0mprint\u001b[0m\u001b[1;33m(\u001b[0m\u001b[0mkr_sort\u001b[0m\u001b[1;33m.\u001b[0m\u001b[0mgroupby\u001b[0m\u001b[1;33m(\u001b[0m\u001b[1;34m'ranking_group'\u001b[0m\u001b[1;33m)\u001b[0m\u001b[1;33m.\u001b[0m\u001b[0mviews\u001b[0m\u001b[1;33m.\u001b[0m\u001b[0mmean\u001b[0m\u001b[1;33m(\u001b[0m\u001b[1;33m)\u001b[0m\u001b[1;33m)\u001b[0m\u001b[1;33m\u001b[0m\u001b[1;33m\u001b[0m\u001b[0m\n\u001b[0m",
      "\u001b[1;32mC:\\ProgramData\\Anaconda3\\lib\\site-packages\\pandas\\core\\generic.py\u001b[0m in \u001b[0;36mgroupby\u001b[1;34m(self, by, axis, level, as_index, sort, group_keys, squeeze, observed, **kwargs)\u001b[0m\n\u001b[0;32m   7630\u001b[0m         return groupby(self, by=by, axis=axis, level=level, as_index=as_index,\n\u001b[0;32m   7631\u001b[0m                        \u001b[0msort\u001b[0m\u001b[1;33m=\u001b[0m\u001b[0msort\u001b[0m\u001b[1;33m,\u001b[0m \u001b[0mgroup_keys\u001b[0m\u001b[1;33m=\u001b[0m\u001b[0mgroup_keys\u001b[0m\u001b[1;33m,\u001b[0m \u001b[0msqueeze\u001b[0m\u001b[1;33m=\u001b[0m\u001b[0msqueeze\u001b[0m\u001b[1;33m,\u001b[0m\u001b[1;33m\u001b[0m\u001b[1;33m\u001b[0m\u001b[0m\n\u001b[1;32m-> 7632\u001b[1;33m                        observed=observed, **kwargs)\n\u001b[0m\u001b[0;32m   7633\u001b[0m \u001b[1;33m\u001b[0m\u001b[0m\n\u001b[0;32m   7634\u001b[0m     def asfreq(self, freq, method=None, how=None, normalize=False,\n",
      "\u001b[1;32mC:\\ProgramData\\Anaconda3\\lib\\site-packages\\pandas\\core\\groupby\\groupby.py\u001b[0m in \u001b[0;36mgroupby\u001b[1;34m(obj, by, **kwds)\u001b[0m\n\u001b[0;32m   2108\u001b[0m         \u001b[1;32mraise\u001b[0m \u001b[0mTypeError\u001b[0m\u001b[1;33m(\u001b[0m\u001b[1;34m'invalid type: {}'\u001b[0m\u001b[1;33m.\u001b[0m\u001b[0mformat\u001b[0m\u001b[1;33m(\u001b[0m\u001b[0mobj\u001b[0m\u001b[1;33m)\u001b[0m\u001b[1;33m)\u001b[0m\u001b[1;33m\u001b[0m\u001b[1;33m\u001b[0m\u001b[0m\n\u001b[0;32m   2109\u001b[0m \u001b[1;33m\u001b[0m\u001b[0m\n\u001b[1;32m-> 2110\u001b[1;33m     \u001b[1;32mreturn\u001b[0m \u001b[0mklass\u001b[0m\u001b[1;33m(\u001b[0m\u001b[0mobj\u001b[0m\u001b[1;33m,\u001b[0m \u001b[0mby\u001b[0m\u001b[1;33m,\u001b[0m \u001b[1;33m**\u001b[0m\u001b[0mkwds\u001b[0m\u001b[1;33m)\u001b[0m\u001b[1;33m\u001b[0m\u001b[1;33m\u001b[0m\u001b[0m\n\u001b[0m",
      "\u001b[1;32mC:\\ProgramData\\Anaconda3\\lib\\site-packages\\pandas\\core\\groupby\\groupby.py\u001b[0m in \u001b[0;36m__init__\u001b[1;34m(self, obj, keys, axis, level, grouper, exclusions, selection, as_index, sort, group_keys, squeeze, observed, **kwargs)\u001b[0m\n\u001b[0;32m    358\u001b[0m                                                     \u001b[0msort\u001b[0m\u001b[1;33m=\u001b[0m\u001b[0msort\u001b[0m\u001b[1;33m,\u001b[0m\u001b[1;33m\u001b[0m\u001b[1;33m\u001b[0m\u001b[0m\n\u001b[0;32m    359\u001b[0m                                                     \u001b[0mobserved\u001b[0m\u001b[1;33m=\u001b[0m\u001b[0mobserved\u001b[0m\u001b[1;33m,\u001b[0m\u001b[1;33m\u001b[0m\u001b[1;33m\u001b[0m\u001b[0m\n\u001b[1;32m--> 360\u001b[1;33m                                                     mutated=self.mutated)\n\u001b[0m\u001b[0;32m    361\u001b[0m \u001b[1;33m\u001b[0m\u001b[0m\n\u001b[0;32m    362\u001b[0m         \u001b[0mself\u001b[0m\u001b[1;33m.\u001b[0m\u001b[0mobj\u001b[0m \u001b[1;33m=\u001b[0m \u001b[0mobj\u001b[0m\u001b[1;33m\u001b[0m\u001b[1;33m\u001b[0m\u001b[0m\n",
      "\u001b[1;32mC:\\ProgramData\\Anaconda3\\lib\\site-packages\\pandas\\core\\groupby\\grouper.py\u001b[0m in \u001b[0;36m_get_grouper\u001b[1;34m(obj, key, axis, level, sort, observed, mutated, validate)\u001b[0m\n\u001b[0;32m    576\u001b[0m                 \u001b[0min_axis\u001b[0m\u001b[1;33m,\u001b[0m \u001b[0mname\u001b[0m\u001b[1;33m,\u001b[0m \u001b[0mlevel\u001b[0m\u001b[1;33m,\u001b[0m \u001b[0mgpr\u001b[0m \u001b[1;33m=\u001b[0m \u001b[1;32mFalse\u001b[0m\u001b[1;33m,\u001b[0m \u001b[1;32mNone\u001b[0m\u001b[1;33m,\u001b[0m \u001b[0mgpr\u001b[0m\u001b[1;33m,\u001b[0m \u001b[1;32mNone\u001b[0m\u001b[1;33m\u001b[0m\u001b[1;33m\u001b[0m\u001b[0m\n\u001b[0;32m    577\u001b[0m             \u001b[1;32melse\u001b[0m\u001b[1;33m:\u001b[0m\u001b[1;33m\u001b[0m\u001b[1;33m\u001b[0m\u001b[0m\n\u001b[1;32m--> 578\u001b[1;33m                 \u001b[1;32mraise\u001b[0m \u001b[0mKeyError\u001b[0m\u001b[1;33m(\u001b[0m\u001b[0mgpr\u001b[0m\u001b[1;33m)\u001b[0m\u001b[1;33m\u001b[0m\u001b[1;33m\u001b[0m\u001b[0m\n\u001b[0m\u001b[0;32m    579\u001b[0m         \u001b[1;32melif\u001b[0m \u001b[0misinstance\u001b[0m\u001b[1;33m(\u001b[0m\u001b[0mgpr\u001b[0m\u001b[1;33m,\u001b[0m \u001b[0mGrouper\u001b[0m\u001b[1;33m)\u001b[0m \u001b[1;32mand\u001b[0m \u001b[0mgpr\u001b[0m\u001b[1;33m.\u001b[0m\u001b[0mkey\u001b[0m \u001b[1;32mis\u001b[0m \u001b[1;32mnot\u001b[0m \u001b[1;32mNone\u001b[0m\u001b[1;33m:\u001b[0m\u001b[1;33m\u001b[0m\u001b[1;33m\u001b[0m\u001b[0m\n\u001b[0;32m    580\u001b[0m             \u001b[1;31m# Add key to exclusions\u001b[0m\u001b[1;33m\u001b[0m\u001b[1;33m\u001b[0m\u001b[1;33m\u001b[0m\u001b[0m\n",
      "\u001b[1;31mKeyError\u001b[0m: 'ranking_group'"
     ]
    }
   ],
   "source": [
    "kr_drop['ranking_group']=sorted(list(range(0,6))*2646)\n",
    "print(kr_sort.groupby('ranking_group').views.mean())"
   ]
  },
  {
   "cell_type": "markdown",
   "metadata": {},
   "source": [
    "댓글수로 정렬하여 13개의 그룹으로 나누어 본 결과, 확실히 각 그룹별 조회수 평균이 댓글수와 비슷한 경향을 띠는 것으로 보인다."
   ]
  },
  {
   "cell_type": "code",
   "execution_count": 79,
   "metadata": {},
   "outputs": [
    {
     "data": {
      "text/plain": [
       "[<matplotlib.lines.Line2D at 0x1b2ec058cc0>]"
      ]
     },
     "execution_count": 79,
     "metadata": {},
     "output_type": "execute_result"
    },
    {
     "data": {
      "image/png": "[encoded data removed]",
      "text/plain": [
       "<Figure size 432x288 with 1 Axes>"
      ]
     },
     "metadata": {
      "needs_background": "light"
     },
     "output_type": "display_data"
    }
   ],
   "source": [
    "plt.plot(KRvideos['views'], KRvideos['comment_count'], 'o')"
   ]
  },
  {
   "cell_type": "code",
   "execution_count": 80,
   "metadata": {},
   "outputs": [
    {
     "data": {
      "text/plain": [
       "[<matplotlib.lines.Line2D at 0x1b2ebf8a128>]"
      ]
     },
     "execution_count": 80,
     "metadata": {},
     "output_type": "execute_result"
    },
    {
     "data": {
      "image/png": "[encoded data removed]",
      "text/plain": [
       "<Figure size 432x288 with 1 Axes>"
      ]
     },
     "metadata": {
      "needs_background": "light"
     },
     "output_type": "display_data"
    }
   ],
   "source": [
    "plt.plot(kr_drop['views'], kr_drop['comment_count'], 'o')"
   ]
  },
  {
   "cell_type": "markdown",
   "metadata": {},
   "source": [
    "전체 데이터를 이용한 그래프와 100위까지의 그래프가 비슷한 모양을 띤다. 대체적으로 조회수가 높을수록 댓글수가 많은 경향이 있지만, 조회수가 높은 영상은 일반적인 영상보다 훨씬 높기 때문에 오히려 outlier처럼 보이는 경향이 있다."
   ]
  },
  {
   "cell_type": "code",
   "execution_count": null,
   "metadata": {},
   "outputs": [],
   "source": []
  },
  {
   "cell_type": "code",
   "execution_count": null,
   "metadata": {},
   "outputs": [],
   "source": []
  }
 ],
 "metadata": {
  "kernelspec": {
   "display_name": "Python 3",
   "language": "python",
   "name": "python3"
  },
  "language_info": {
   "codemirror_mode": {
    "name": "ipython",
    "version": 3
   },
   "file_extension": ".py",
   "mimetype": "text/x-python",
   "name": "python",
   "nbconvert_exporter": "python",
   "pygments_lexer": "ipython3",
   "version": "3.7.3"
  }
 },
 "nbformat": 4,
 "nbformat_minor": 2
}
